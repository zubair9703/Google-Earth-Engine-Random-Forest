{
  "nbformat": 4,
  "nbformat_minor": 0,
  "metadata": {
    "colab": {
      "name": "RF_for_NIR_RED_GREEN.ipynb",
      "provenance": [],
      "mount_file_id": "1VCr0VGhjazBiVCfsnOuLKKuk_pFJMID9",
      "authorship_tag": "ABX9TyNdt/MS5YIIdiKR1A2VZw38",
      "include_colab_link": true
    },
    "kernelspec": {
      "name": "python3",
      "display_name": "Python 3"
    },
    "language_info": {
      "name": "python"
    },
    "widgets": {
      "application/vnd.jupyter.widget-state+json": {
        "df55afa7c6c749a58f8b513419ea00b8": {
          "model_module": "jupyter-leaflet",
          "model_name": "LeafletMapModel",
          "model_module_version": "^0.17.0",
          "state": {
            "_dom_classes": [],
            "_model_module": "jupyter-leaflet",
            "_model_module_version": "^0.17.0",
            "_model_name": "LeafletMapModel",
            "_view_count": null,
            "_view_module": "jupyter-leaflet",
            "_view_module_version": "^0.17.0",
            "_view_name": "LeafletMapView",
            "bottom": 486025,
            "bounce_at_zoom_limits": true,
            "box_zoom": true,
            "center": [
              13.12339059592214,
              77.49525079053643
            ],
            "close_popup_on_click": true,
            "controls": [
              "IPY_MODEL_4d05903d946747efb158df3f8ec43f83",
              "IPY_MODEL_f93389ec12d94ae89ad92d1d9f915ded",
              "IPY_MODEL_9d4651db7a004311940bf2056cd55608",
              "IPY_MODEL_e15036a4997d45af8c9ac7c305d503ea",
              "IPY_MODEL_5b8be3e5192c44e8a948ab3050223c24",
              "IPY_MODEL_e91f4956343b49f28a0d7a131c8bc3e5",
              "IPY_MODEL_a142ee802ffd442fb034454d65e4bd14",
              "IPY_MODEL_824b06d526a64f72bd004fb5c949a568",
              "IPY_MODEL_a56f6e68154a45039a1a434315e51882"
            ],
            "crs": {
              "name": "EPSG3857",
              "custom": false
            },
            "default_style": "IPY_MODEL_17205a490f9c496eb88e605d300f8780",
            "double_click_zoom": true,
            "dragging": true,
            "dragging_style": "IPY_MODEL_b13d5ce169be4eb0ab7e04daac9dc21c",
            "east": 77.72071838378906,
            "fullscreen": false,
            "inertia": true,
            "inertia_deceleration": 3000,
            "inertia_max_speed": 1500,
            "interpolation": "bilinear",
            "keyboard": true,
            "keyboard_pan_offset": 80,
            "keyboard_zoom_offset": 1,
            "layers": [
              "IPY_MODEL_1d72ed0ff5e747ffad395b3e800e6fa3",
              "IPY_MODEL_280af672cd274e9c81a854578e09fcb3",
              "IPY_MODEL_4f53b2d3a3db495eb4519190e88b7ee3",
              "IPY_MODEL_b1a1d20c2e73434691eb9efe623295d3"
            ],
            "layout": "IPY_MODEL_fc365c9bdc904ece892d35c53abb14a9",
            "left": 749352,
            "max_zoom": 24,
            "min_zoom": null,
            "modisdate": "2022-07-23",
            "north": 13.223569293385058,
            "options": [
              "bounce_at_zoom_limits",
              "box_zoom",
              "center",
              "close_popup_on_click",
              "double_click_zoom",
              "dragging",
              "fullscreen",
              "inertia",
              "inertia_deceleration",
              "inertia_max_speed",
              "interpolation",
              "keyboard",
              "keyboard_pan_offset",
              "keyboard_zoom_offset",
              "max_zoom",
              "min_zoom",
              "prefer_canvas",
              "scroll_wheel_zoom",
              "tap",
              "tap_tolerance",
              "touch_zoom",
              "world_copy_jump",
              "zoom",
              "zoom_animation_threshold",
              "zoom_delta",
              "zoom_snap"
            ],
            "panes": {},
            "prefer_canvas": false,
            "right": 750666,
            "scroll_wheel_zoom": true,
            "south": 13.022955512625071,
            "style": "IPY_MODEL_cbf6e1bcd732461781f70a7eb79d3528",
            "tap": true,
            "tap_tolerance": 15,
            "top": 485425,
            "touch_zoom": true,
            "west": 77.26959228515626,
            "window_url": "https://ycqjdv70l58-496ff2e9c6d22116-0-colab.googleusercontent.com/outputframe.html?vrz=colab-20220721-060048-RC00_462350521",
            "world_copy_jump": false,
            "zoom": 12,
            "zoom_animation_threshold": 4,
            "zoom_delta": 1,
            "zoom_snap": 1
          }
        },
        "4d05903d946747efb158df3f8ec43f83": {
          "model_module": "jupyter-leaflet",
          "model_name": "LeafletWidgetControlModel",
          "model_module_version": "^0.17.0",
          "state": {
            "_model_module": "jupyter-leaflet",
            "_model_module_version": "^0.17.0",
            "_model_name": "LeafletWidgetControlModel",
            "_view_count": null,
            "_view_module": "jupyter-leaflet",
            "_view_module_version": "^0.17.0",
            "_view_name": "LeafletWidgetControlView",
            "max_height": null,
            "max_width": null,
            "min_height": null,
            "min_width": null,
            "options": [
              "position",
              "transparent_bg"
            ],
            "position": "topleft",
            "transparent_bg": false,
            "widget": "IPY_MODEL_4f7132ce07d24a16b7aa5844dd80d45e"
          }
        },
        "f93389ec12d94ae89ad92d1d9f915ded": {
          "model_module": "jupyter-leaflet",
          "model_name": "LeafletZoomControlModel",
          "model_module_version": "^0.17.0",
          "state": {
            "_model_module": "jupyter-leaflet",
            "_model_module_version": "^0.17.0",
            "_model_name": "LeafletZoomControlModel",
            "_view_count": null,
            "_view_module": "jupyter-leaflet",
            "_view_module_version": "^0.17.0",
            "_view_name": "LeafletZoomControlView",
            "options": [
              "position",
              "zoom_in_text",
              "zoom_in_title",
              "zoom_out_text",
              "zoom_out_title"
            ],
            "position": "topleft",
            "zoom_in_text": "+",
            "zoom_in_title": "Zoom in",
            "zoom_out_text": "-",
            "zoom_out_title": "Zoom out"
          }
        },
        "9d4651db7a004311940bf2056cd55608": {
          "model_module": "jupyter-leaflet",
          "model_name": "LeafletScaleControlModel",
          "model_module_version": "^0.17.0",
          "state": {
            "_model_module": "jupyter-leaflet",
            "_model_module_version": "^0.17.0",
            "_model_name": "LeafletScaleControlModel",
            "_view_count": null,
            "_view_module": "jupyter-leaflet",
            "_view_module_version": "^0.17.0",
            "_view_name": "LeafletScaleControlView",
            "imperial": true,
            "max_width": 100,
            "metric": true,
            "options": [
              "imperial",
              "max_width",
              "metric",
              "position",
              "update_when_idle"
            ],
            "position": "bottomleft",
            "update_when_idle": false
          }
        },
        "e15036a4997d45af8c9ac7c305d503ea": {
          "model_module": "jupyter-leaflet",
          "model_name": "LeafletFullScreenControlModel",
          "model_module_version": "^0.17.0",
          "state": {
            "_model_module": "jupyter-leaflet",
            "_model_module_version": "^0.17.0",
            "_model_name": "LeafletFullScreenControlModel",
            "_view_count": null,
            "_view_module": "jupyter-leaflet",
            "_view_module_version": "^0.17.0",
            "_view_name": "LeafletFullScreenControlView",
            "options": [
              "position"
            ],
            "position": "topleft"
          }
        },
        "5b8be3e5192c44e8a948ab3050223c24": {
          "model_module": "jupyter-leaflet",
          "model_name": "LeafletMeasureControlModel",
          "model_module_version": "^0.17.0",
          "state": {
            "_custom_units": {},
            "_model_module": "jupyter-leaflet",
            "_model_module_version": "^0.17.0",
            "_model_name": "LeafletMeasureControlModel",
            "_view_count": null,
            "_view_module": "jupyter-leaflet",
            "_view_module_version": "^0.17.0",
            "_view_name": "LeafletMeasureControlView",
            "active_color": "orange",
            "capture_z_index": 10000,
            "completed_color": "#C8F2BE",
            "options": [
              "active_color",
              "capture_z_index",
              "completed_color",
              "popup_options",
              "position",
              "primary_area_unit",
              "primary_length_unit",
              "secondary_area_unit",
              "secondary_length_unit"
            ],
            "popup_options": {
              "className": "leaflet-measure-resultpopup",
              "autoPanPadding": [
                10,
                10
              ]
            },
            "position": "bottomleft",
            "primary_area_unit": "acres",
            "primary_length_unit": "kilometers",
            "secondary_area_unit": null,
            "secondary_length_unit": null
          }
        },
        "e91f4956343b49f28a0d7a131c8bc3e5": {
          "model_module": "jupyter-leaflet",
          "model_name": "LeafletAttributionControlModel",
          "model_module_version": "^0.17.0",
          "state": {
            "_model_module": "jupyter-leaflet",
            "_model_module_version": "^0.17.0",
            "_model_name": "LeafletAttributionControlModel",
            "_view_count": null,
            "_view_module": "jupyter-leaflet",
            "_view_module_version": "^0.17.0",
            "_view_name": "LeafletAttributionControlView",
            "options": [
              "position",
              "prefix"
            ],
            "position": "bottomright",
            "prefix": "ipyleaflet"
          }
        },
        "a142ee802ffd442fb034454d65e4bd14": {
          "model_module": "jupyter-leaflet",
          "model_name": "LeafletDrawControlModel",
          "model_module_version": "^0.17.0",
          "state": {
            "_model_module": "jupyter-leaflet",
            "_model_module_version": "^0.17.0",
            "_model_name": "LeafletDrawControlModel",
            "_view_count": null,
            "_view_module": "jupyter-leaflet",
            "_view_module_version": "^0.17.0",
            "_view_name": "LeafletDrawControlView",
            "circle": {
              "shapeOptions": {
                "color": "#3388ff"
              }
            },
            "circlemarker": {},
            "data": [],
            "edit": true,
            "marker": {
              "shapeOptions": {
                "color": "#3388ff"
              }
            },
            "options": [
              "position"
            ],
            "polygon": {
              "shapeOptions": {}
            },
            "polyline": {
              "shapeOptions": {}
            },
            "position": "topleft",
            "rectangle": {
              "shapeOptions": {
                "color": "#3388ff"
              }
            },
            "remove": true
          }
        },
        "824b06d526a64f72bd004fb5c949a568": {
          "model_module": "jupyter-leaflet",
          "model_name": "LeafletWidgetControlModel",
          "model_module_version": "^0.17.0",
          "state": {
            "_model_module": "jupyter-leaflet",
            "_model_module_version": "^0.17.0",
            "_model_name": "LeafletWidgetControlModel",
            "_view_count": null,
            "_view_module": "jupyter-leaflet",
            "_view_module_version": "^0.17.0",
            "_view_name": "LeafletWidgetControlView",
            "max_height": null,
            "max_width": null,
            "min_height": null,
            "min_width": null,
            "options": [
              "position",
              "transparent_bg"
            ],
            "position": "topright",
            "transparent_bg": false,
            "widget": "IPY_MODEL_0ce728c51167405aa87db16363a96b75"
          }
        },
        "17205a490f9c496eb88e605d300f8780": {
          "model_module": "jupyter-leaflet",
          "model_name": "LeafletMapStyleModel",
          "model_module_version": "^0.17.0",
          "state": {
            "_model_module": "jupyter-leaflet",
            "_model_module_version": "^0.17.0",
            "_model_name": "LeafletMapStyleModel",
            "_view_count": null,
            "_view_module": "@jupyter-widgets/base",
            "_view_module_version": "1.2.0",
            "_view_name": "StyleView",
            "cursor": "grab"
          }
        },
        "b13d5ce169be4eb0ab7e04daac9dc21c": {
          "model_module": "jupyter-leaflet",
          "model_name": "LeafletMapStyleModel",
          "model_module_version": "^0.17.0",
          "state": {
            "_model_module": "jupyter-leaflet",
            "_model_module_version": "^0.17.0",
            "_model_name": "LeafletMapStyleModel",
            "_view_count": null,
            "_view_module": "@jupyter-widgets/base",
            "_view_module_version": "1.2.0",
            "_view_name": "StyleView",
            "cursor": "move"
          }
        },
        "1d72ed0ff5e747ffad395b3e800e6fa3": {
          "model_module": "jupyter-leaflet",
          "model_name": "LeafletTileLayerModel",
          "model_module_version": "^0.17.0",
          "state": {
            "_model_module": "jupyter-leaflet",
            "_model_module_version": "^0.17.0",
            "_model_name": "LeafletTileLayerModel",
            "_view_count": null,
            "_view_module": "jupyter-leaflet",
            "_view_module_version": "^0.17.0",
            "_view_name": "LeafletTileLayerView",
            "attribution": "&copy; <a href=\"https://www.openstreetmap.org/copyright\">OpenStreetMap</a> contributors",
            "base": true,
            "bottom": true,
            "bounds": null,
            "detect_retina": false,
            "loading": false,
            "max_native_zoom": null,
            "max_zoom": 19,
            "min_native_zoom": null,
            "min_zoom": 1,
            "name": "OpenStreetMap.Mapnik",
            "no_wrap": false,
            "opacity": 1,
            "options": [
              "attribution",
              "bounds",
              "detect_retina",
              "max_native_zoom",
              "max_zoom",
              "min_native_zoom",
              "min_zoom",
              "no_wrap",
              "tile_size",
              "tms"
            ],
            "pane": "",
            "popup": null,
            "popup_max_height": null,
            "popup_max_width": 300,
            "popup_min_width": 50,
            "show_loading": false,
            "tile_size": 256,
            "tms": false,
            "url": "https://a.tile.openstreetmap.org/{z}/{x}/{y}.png",
            "visible": true
          }
        },
        "280af672cd274e9c81a854578e09fcb3": {
          "model_module": "jupyter-leaflet",
          "model_name": "LeafletTileLayerModel",
          "model_module_version": "^0.17.0",
          "state": {
            "_model_module": "jupyter-leaflet",
            "_model_module_version": "^0.17.0",
            "_model_name": "LeafletTileLayerModel",
            "_view_count": null,
            "_view_module": "jupyter-leaflet",
            "_view_module_version": "^0.17.0",
            "_view_name": "LeafletTileLayerView",
            "attribution": "Google",
            "base": false,
            "bottom": true,
            "bounds": null,
            "detect_retina": false,
            "loading": false,
            "max_native_zoom": null,
            "max_zoom": 22,
            "min_native_zoom": null,
            "min_zoom": 0,
            "name": "Google Maps",
            "no_wrap": false,
            "opacity": 1,
            "options": [
              "attribution",
              "bounds",
              "detect_retina",
              "max_native_zoom",
              "max_zoom",
              "min_native_zoom",
              "min_zoom",
              "no_wrap",
              "tile_size",
              "tms"
            ],
            "pane": "",
            "popup": null,
            "popup_max_height": null,
            "popup_max_width": 300,
            "popup_min_width": 50,
            "show_loading": false,
            "tile_size": 256,
            "tms": false,
            "url": "https://mt1.google.com/vt/lyrs=m&x={x}&y={y}&z={z}",
            "visible": true
          }
        },
        "4f53b2d3a3db495eb4519190e88b7ee3": {
          "model_module": "jupyter-leaflet",
          "model_name": "LeafletTileLayerModel",
          "model_module_version": "^0.17.0",
          "state": {
            "_model_module": "jupyter-leaflet",
            "_model_module_version": "^0.17.0",
            "_model_name": "LeafletTileLayerModel",
            "_view_count": null,
            "_view_module": "jupyter-leaflet",
            "_view_module_version": "^0.17.0",
            "_view_name": "LeafletTileLayerView",
            "attribution": "Google Earth Engine",
            "base": false,
            "bottom": true,
            "bounds": null,
            "detect_retina": false,
            "loading": false,
            "max_native_zoom": null,
            "max_zoom": 24,
            "min_native_zoom": null,
            "min_zoom": 0,
            "name": "Fcc",
            "no_wrap": false,
            "opacity": 1,
            "options": [
              "attribution",
              "bounds",
              "detect_retina",
              "max_native_zoom",
              "max_zoom",
              "min_native_zoom",
              "min_zoom",
              "no_wrap",
              "tile_size",
              "tms"
            ],
            "pane": "",
            "popup": null,
            "popup_max_height": null,
            "popup_max_width": 300,
            "popup_min_width": 50,
            "show_loading": false,
            "tile_size": 256,
            "tms": false,
            "url": "https://earthengine.googleapis.com/v1alpha/projects/earthengine-legacy/maps/5c9790fc95ef36066bc69f0d1d911dbf-31d115b2fa7e36c28fd156c43e2fd88a/tiles/{z}/{x}/{y}",
            "visible": true
          }
        },
        "fc365c9bdc904ece892d35c53abb14a9": {
          "model_module": "@jupyter-widgets/base",
          "model_name": "LayoutModel",
          "model_module_version": "1.2.0",
          "state": {
            "_model_module": "@jupyter-widgets/base",
            "_model_module_version": "1.2.0",
            "_model_name": "LayoutModel",
            "_view_count": null,
            "_view_module": "@jupyter-widgets/base",
            "_view_module_version": "1.2.0",
            "_view_name": "LayoutView",
            "align_content": null,
            "align_items": null,
            "align_self": null,
            "border": null,
            "bottom": null,
            "display": null,
            "flex": null,
            "flex_flow": null,
            "grid_area": null,
            "grid_auto_columns": null,
            "grid_auto_flow": null,
            "grid_auto_rows": null,
            "grid_column": null,
            "grid_gap": null,
            "grid_row": null,
            "grid_template_areas": null,
            "grid_template_columns": null,
            "grid_template_rows": null,
            "height": "600px",
            "justify_content": null,
            "justify_items": null,
            "left": null,
            "margin": null,
            "max_height": null,
            "max_width": null,
            "min_height": null,
            "min_width": null,
            "object_fit": null,
            "object_position": null,
            "order": null,
            "overflow": null,
            "overflow_x": null,
            "overflow_y": null,
            "padding": null,
            "right": null,
            "top": null,
            "visibility": null,
            "width": null
          }
        },
        "cbf6e1bcd732461781f70a7eb79d3528": {
          "model_module": "jupyter-leaflet",
          "model_name": "LeafletMapStyleModel",
          "model_module_version": "^0.17.0",
          "state": {
            "_model_module": "jupyter-leaflet",
            "_model_module_version": "^0.17.0",
            "_model_name": "LeafletMapStyleModel",
            "_view_count": null,
            "_view_module": "@jupyter-widgets/base",
            "_view_module_version": "1.2.0",
            "_view_name": "StyleView",
            "cursor": "grab"
          }
        },
        "4f7132ce07d24a16b7aa5844dd80d45e": {
          "model_module": "@jupyter-widgets/controls",
          "model_name": "HBoxModel",
          "model_module_version": "1.5.0",
          "state": {
            "_dom_classes": [],
            "_model_module": "@jupyter-widgets/controls",
            "_model_module_version": "1.5.0",
            "_model_name": "HBoxModel",
            "_view_count": null,
            "_view_module": "@jupyter-widgets/controls",
            "_view_module_version": "1.5.0",
            "_view_name": "HBoxView",
            "box_style": "",
            "children": [
              "IPY_MODEL_898bd4d89651434195ecc981bed154fd"
            ],
            "layout": "IPY_MODEL_e477829f93dc46708036b6bef94c1004"
          }
        },
        "0ce728c51167405aa87db16363a96b75": {
          "model_module": "@jupyter-widgets/controls",
          "model_name": "VBoxModel",
          "model_module_version": "1.5.0",
          "state": {
            "_dom_classes": [],
            "_model_module": "@jupyter-widgets/controls",
            "_model_module_version": "1.5.0",
            "_model_name": "VBoxModel",
            "_view_count": null,
            "_view_module": "@jupyter-widgets/controls",
            "_view_module_version": "1.5.0",
            "_view_name": "VBoxView",
            "box_style": "",
            "children": [
              "IPY_MODEL_e42d2610f5f746cf8e5d451718592762"
            ],
            "layout": "IPY_MODEL_c8ba72621b634d79812bd3ffc838549a"
          }
        },
        "898bd4d89651434195ecc981bed154fd": {
          "model_module": "@jupyter-widgets/controls",
          "model_name": "ToggleButtonModel",
          "model_module_version": "1.5.0",
          "state": {
            "_dom_classes": [],
            "_model_module": "@jupyter-widgets/controls",
            "_model_module_version": "1.5.0",
            "_model_name": "ToggleButtonModel",
            "_view_count": null,
            "_view_module": "@jupyter-widgets/controls",
            "_view_module_version": "1.5.0",
            "_view_name": "ToggleButtonView",
            "button_style": "",
            "description": "",
            "description_tooltip": null,
            "disabled": false,
            "icon": "globe",
            "layout": "IPY_MODEL_c76d47e32b7e4cd9b0f6ae3a8e441898",
            "style": "IPY_MODEL_b31409a8d1214b54911c830cc03fa0a3",
            "tooltip": "Search location/data",
            "value": false
          }
        },
        "e477829f93dc46708036b6bef94c1004": {
          "model_module": "@jupyter-widgets/base",
          "model_name": "LayoutModel",
          "model_module_version": "1.2.0",
          "state": {
            "_model_module": "@jupyter-widgets/base",
            "_model_module_version": "1.2.0",
            "_model_name": "LayoutModel",
            "_view_count": null,
            "_view_module": "@jupyter-widgets/base",
            "_view_module_version": "1.2.0",
            "_view_name": "LayoutView",
            "align_content": null,
            "align_items": null,
            "align_self": null,
            "border": null,
            "bottom": null,
            "display": null,
            "flex": null,
            "flex_flow": null,
            "grid_area": null,
            "grid_auto_columns": null,
            "grid_auto_flow": null,
            "grid_auto_rows": null,
            "grid_column": null,
            "grid_gap": null,
            "grid_row": null,
            "grid_template_areas": null,
            "grid_template_columns": null,
            "grid_template_rows": null,
            "height": null,
            "justify_content": null,
            "justify_items": null,
            "left": null,
            "margin": null,
            "max_height": null,
            "max_width": null,
            "min_height": null,
            "min_width": null,
            "object_fit": null,
            "object_position": null,
            "order": null,
            "overflow": null,
            "overflow_x": null,
            "overflow_y": null,
            "padding": null,
            "right": null,
            "top": null,
            "visibility": null,
            "width": null
          }
        },
        "e42d2610f5f746cf8e5d451718592762": {
          "model_module": "@jupyter-widgets/controls",
          "model_name": "ToggleButtonModel",
          "model_module_version": "1.5.0",
          "state": {
            "_dom_classes": [],
            "_model_module": "@jupyter-widgets/controls",
            "_model_module_version": "1.5.0",
            "_model_name": "ToggleButtonModel",
            "_view_count": null,
            "_view_module": "@jupyter-widgets/controls",
            "_view_module_version": "1.5.0",
            "_view_name": "ToggleButtonView",
            "button_style": "",
            "description": "",
            "description_tooltip": null,
            "disabled": false,
            "icon": "wrench",
            "layout": "IPY_MODEL_fc69bbec40df4cb880c7c07c33f5874e",
            "style": "IPY_MODEL_2fb9674aead244248cc549721485d0bf",
            "tooltip": "Toolbar",
            "value": false
          }
        },
        "c8ba72621b634d79812bd3ffc838549a": {
          "model_module": "@jupyter-widgets/base",
          "model_name": "LayoutModel",
          "model_module_version": "1.2.0",
          "state": {
            "_model_module": "@jupyter-widgets/base",
            "_model_module_version": "1.2.0",
            "_model_name": "LayoutModel",
            "_view_count": null,
            "_view_module": "@jupyter-widgets/base",
            "_view_module_version": "1.2.0",
            "_view_name": "LayoutView",
            "align_content": null,
            "align_items": null,
            "align_self": null,
            "border": null,
            "bottom": null,
            "display": null,
            "flex": null,
            "flex_flow": null,
            "grid_area": null,
            "grid_auto_columns": null,
            "grid_auto_flow": null,
            "grid_auto_rows": null,
            "grid_column": null,
            "grid_gap": null,
            "grid_row": null,
            "grid_template_areas": null,
            "grid_template_columns": null,
            "grid_template_rows": null,
            "height": null,
            "justify_content": null,
            "justify_items": null,
            "left": null,
            "margin": null,
            "max_height": null,
            "max_width": null,
            "min_height": null,
            "min_width": null,
            "object_fit": null,
            "object_position": null,
            "order": null,
            "overflow": null,
            "overflow_x": null,
            "overflow_y": null,
            "padding": null,
            "right": null,
            "top": null,
            "visibility": null,
            "width": null
          }
        },
        "c76d47e32b7e4cd9b0f6ae3a8e441898": {
          "model_module": "@jupyter-widgets/base",
          "model_name": "LayoutModel",
          "model_module_version": "1.2.0",
          "state": {
            "_model_module": "@jupyter-widgets/base",
            "_model_module_version": "1.2.0",
            "_model_name": "LayoutModel",
            "_view_count": null,
            "_view_module": "@jupyter-widgets/base",
            "_view_module_version": "1.2.0",
            "_view_name": "LayoutView",
            "align_content": null,
            "align_items": null,
            "align_self": null,
            "border": null,
            "bottom": null,
            "display": null,
            "flex": null,
            "flex_flow": null,
            "grid_area": null,
            "grid_auto_columns": null,
            "grid_auto_flow": null,
            "grid_auto_rows": null,
            "grid_column": null,
            "grid_gap": null,
            "grid_row": null,
            "grid_template_areas": null,
            "grid_template_columns": null,
            "grid_template_rows": null,
            "height": "28px",
            "justify_content": null,
            "justify_items": null,
            "left": null,
            "margin": null,
            "max_height": null,
            "max_width": null,
            "min_height": null,
            "min_width": null,
            "object_fit": null,
            "object_position": null,
            "order": null,
            "overflow": null,
            "overflow_x": null,
            "overflow_y": null,
            "padding": "0px 0px 0px 4px",
            "right": null,
            "top": null,
            "visibility": null,
            "width": "28px"
          }
        },
        "b31409a8d1214b54911c830cc03fa0a3": {
          "model_module": "@jupyter-widgets/controls",
          "model_name": "DescriptionStyleModel",
          "model_module_version": "1.5.0",
          "state": {
            "_model_module": "@jupyter-widgets/controls",
            "_model_module_version": "1.5.0",
            "_model_name": "DescriptionStyleModel",
            "_view_count": null,
            "_view_module": "@jupyter-widgets/base",
            "_view_module_version": "1.2.0",
            "_view_name": "StyleView",
            "description_width": ""
          }
        },
        "fc69bbec40df4cb880c7c07c33f5874e": {
          "model_module": "@jupyter-widgets/base",
          "model_name": "LayoutModel",
          "model_module_version": "1.2.0",
          "state": {
            "_model_module": "@jupyter-widgets/base",
            "_model_module_version": "1.2.0",
            "_model_name": "LayoutModel",
            "_view_count": null,
            "_view_module": "@jupyter-widgets/base",
            "_view_module_version": "1.2.0",
            "_view_name": "LayoutView",
            "align_content": null,
            "align_items": null,
            "align_self": null,
            "border": null,
            "bottom": null,
            "display": null,
            "flex": null,
            "flex_flow": null,
            "grid_area": null,
            "grid_auto_columns": null,
            "grid_auto_flow": null,
            "grid_auto_rows": null,
            "grid_column": null,
            "grid_gap": null,
            "grid_row": null,
            "grid_template_areas": null,
            "grid_template_columns": null,
            "grid_template_rows": null,
            "height": "28px",
            "justify_content": null,
            "justify_items": null,
            "left": null,
            "margin": null,
            "max_height": null,
            "max_width": null,
            "min_height": null,
            "min_width": null,
            "object_fit": null,
            "object_position": null,
            "order": null,
            "overflow": null,
            "overflow_x": null,
            "overflow_y": null,
            "padding": "0px 0px 0px 4px",
            "right": null,
            "top": null,
            "visibility": null,
            "width": "28px"
          }
        },
        "2fb9674aead244248cc549721485d0bf": {
          "model_module": "@jupyter-widgets/controls",
          "model_name": "DescriptionStyleModel",
          "model_module_version": "1.5.0",
          "state": {
            "_model_module": "@jupyter-widgets/controls",
            "_model_module_version": "1.5.0",
            "_model_name": "DescriptionStyleModel",
            "_view_count": null,
            "_view_module": "@jupyter-widgets/base",
            "_view_module_version": "1.2.0",
            "_view_name": "StyleView",
            "description_width": ""
          }
        },
        "ba85b6a72ddb4f9487830f1a5c9a655e": {
          "model_module": "jupyter-leaflet",
          "model_name": "LeafletTileLayerModel",
          "model_module_version": "^0.17.0",
          "state": {
            "_model_module": "jupyter-leaflet",
            "_model_module_version": "^0.17.0",
            "_model_name": "LeafletTileLayerModel",
            "_view_count": null,
            "_view_module": "jupyter-leaflet",
            "_view_module_version": "^0.17.0",
            "_view_name": "LeafletTileLayerView",
            "attribution": "Google Earth Engine",
            "base": false,
            "bottom": true,
            "bounds": null,
            "detect_retina": false,
            "loading": false,
            "max_native_zoom": null,
            "max_zoom": 24,
            "min_native_zoom": null,
            "min_zoom": 0,
            "name": "2022",
            "no_wrap": false,
            "opacity": 1,
            "options": [
              "attribution",
              "bounds",
              "detect_retina",
              "max_native_zoom",
              "max_zoom",
              "min_native_zoom",
              "min_zoom",
              "no_wrap",
              "tile_size",
              "tms"
            ],
            "pane": "",
            "popup": null,
            "popup_max_height": null,
            "popup_max_width": 300,
            "popup_min_width": 50,
            "show_loading": false,
            "tile_size": 256,
            "tms": false,
            "url": "https://earthengine.googleapis.com/v1alpha/projects/earthengine-legacy/maps/cb2eb72a6981915d08aa8a534f92bebb-724802ab5ee7b5f615fcaeba9a585f75/tiles/{z}/{x}/{y}",
            "visible": true
          }
        },
        "b1a1d20c2e73434691eb9efe623295d3": {
          "model_module": "jupyter-leaflet",
          "model_name": "LeafletTileLayerModel",
          "model_module_version": "^0.17.0",
          "state": {
            "_model_module": "jupyter-leaflet",
            "_model_module_version": "^0.17.0",
            "_model_name": "LeafletTileLayerModel",
            "_view_count": null,
            "_view_module": "jupyter-leaflet",
            "_view_module_version": "^0.17.0",
            "_view_name": "LeafletTileLayerView",
            "attribution": "Google Earth Engine",
            "base": false,
            "bottom": true,
            "bounds": null,
            "detect_retina": false,
            "loading": false,
            "max_native_zoom": null,
            "max_zoom": 24,
            "min_native_zoom": null,
            "min_zoom": 0,
            "name": "2022",
            "no_wrap": false,
            "opacity": 1,
            "options": [
              "attribution",
              "bounds",
              "detect_retina",
              "max_native_zoom",
              "max_zoom",
              "min_native_zoom",
              "min_zoom",
              "no_wrap",
              "tile_size",
              "tms"
            ],
            "pane": "",
            "popup": null,
            "popup_max_height": null,
            "popup_max_width": 300,
            "popup_min_width": 50,
            "show_loading": false,
            "tile_size": 256,
            "tms": false,
            "url": "https://earthengine.googleapis.com/v1alpha/projects/earthengine-legacy/maps/9b92b2c63194b7db3ce75c1b3887fba1-1a13e9fea4d712b0a90ea6c9feadc765/tiles/{z}/{x}/{y}",
            "visible": true
          }
        },
        "a56f6e68154a45039a1a434315e51882": {
          "model_module": "jupyter-leaflet",
          "model_name": "LeafletWidgetControlModel",
          "model_module_version": "^0.17.0",
          "state": {
            "_model_module": "jupyter-leaflet",
            "_model_module_version": "^0.17.0",
            "_model_name": "LeafletWidgetControlModel",
            "_view_count": null,
            "_view_module": "jupyter-leaflet",
            "_view_module_version": "^0.17.0",
            "_view_name": "LeafletWidgetControlView",
            "max_height": null,
            "max_width": null,
            "min_height": null,
            "min_width": null,
            "options": [
              "position",
              "transparent_bg"
            ],
            "position": "bottomright",
            "transparent_bg": false,
            "widget": "IPY_MODEL_44dc1aa19f334db1bed877e67a8aa82e"
          }
        },
        "44dc1aa19f334db1bed877e67a8aa82e": {
          "model_module": "@jupyter-widgets/output",
          "model_name": "OutputModel",
          "model_module_version": "1.0.0",
          "state": {
            "_dom_classes": [],
            "_model_module": "@jupyter-widgets/output",
            "_model_module_version": "1.0.0",
            "_model_name": "OutputModel",
            "_view_count": null,
            "_view_module": "@jupyter-widgets/output",
            "_view_module_version": "1.0.0",
            "_view_name": "OutputView",
            "layout": "IPY_MODEL_0b358880cab446f3ac18f7244cb5d980",
            "msg_id": "",
            "outputs": [
              {
                "output_type": "display_data",
                "data": {
                  "text/plain": "HTML(value=\"<html>\\n<body>\\n  <div class='my-legend'>\\n  <div class='legend-title'>Classification of RE3,SWIR1…",
                  "application/vnd.jupyter.widget-view+json": {
                    "version_major": 2,
                    "version_minor": 0,
                    "model_id": "52e8e413c12b44c091bb60c18a7b807d"
                  }
                },
                "metadata": {
                  "application/vnd.jupyter.widget-view+json": {
                    "colab": {
                      "custom_widget_manager": {
                        "url": "https://ssl.gstatic.com/colaboratory-static/widgets/colab-cdn-widget-manager/d2e234f7cc04bf79/manager.min.js"
                      }
                    }
                  }
                }
              }
            ]
          }
        },
        "0b358880cab446f3ac18f7244cb5d980": {
          "model_module": "@jupyter-widgets/base",
          "model_name": "LayoutModel",
          "model_module_version": "1.2.0",
          "state": {
            "_model_module": "@jupyter-widgets/base",
            "_model_module_version": "1.2.0",
            "_model_name": "LayoutModel",
            "_view_count": null,
            "_view_module": "@jupyter-widgets/base",
            "_view_module_version": "1.2.0",
            "_view_name": "LayoutView",
            "align_content": null,
            "align_items": null,
            "align_self": null,
            "border": null,
            "bottom": null,
            "display": null,
            "flex": null,
            "flex_flow": null,
            "grid_area": null,
            "grid_auto_columns": null,
            "grid_auto_flow": null,
            "grid_auto_rows": null,
            "grid_column": null,
            "grid_gap": null,
            "grid_row": null,
            "grid_template_areas": null,
            "grid_template_columns": null,
            "grid_template_rows": null,
            "height": null,
            "justify_content": null,
            "justify_items": null,
            "left": null,
            "margin": null,
            "max_height": "400px",
            "max_width": "300px",
            "min_height": null,
            "min_width": null,
            "object_fit": null,
            "object_position": null,
            "order": null,
            "overflow": "scroll",
            "overflow_x": null,
            "overflow_y": null,
            "padding": null,
            "right": null,
            "top": null,
            "visibility": null,
            "width": null
          }
        },
        "52e8e413c12b44c091bb60c18a7b807d": {
          "model_module": "@jupyter-widgets/controls",
          "model_name": "HTMLModel",
          "model_module_version": "1.5.0",
          "state": {
            "_dom_classes": [],
            "_model_module": "@jupyter-widgets/controls",
            "_model_module_version": "1.5.0",
            "_model_name": "HTMLModel",
            "_view_count": null,
            "_view_module": "@jupyter-widgets/controls",
            "_view_module_version": "1.5.0",
            "_view_name": "HTMLView",
            "description": "",
            "description_tooltip": null,
            "layout": "IPY_MODEL_83e2e98cbd43475caecc5e356874047d",
            "placeholder": "​",
            "style": "IPY_MODEL_d2ec97f7433c44eab0e8504c689b689f",
            "value": "<html>\n<body>\n  <div class='my-legend'>\n  <div class='legend-title'>Classification of RE3,SWIR1 and SWIR2</div>\n  <div class='legend-scale'>\n    <ul class='legend-labels'>\n      <li><span style='background:#c81f04;'></span>0)Built-up</li>\n      <li><span style='background:#100eff;'></span>1)water</li>\n      <li><span style='background:#179750;'></span>2)otherplantations</li>\n      <li><span style='background:#ad7b0d;'></span>3)coconut</li>\n      <li><span style='background:#004902;'></span>4)mango</li>\n      <li><span style='background:#ebff3f;'></span>5)openland</li>\n      <li><span style='background:#ee6aff;'></span>6)fallowlands</li>\n      <li><span style='background:#aaff5a;'></span>7)cropland</li>\n      <li><span style='background:#a6adba;'></span>8)scrublands</li>\n      <li><span style='background:#ba81a6;'></span>9)Eucalyptus</li>\n      <li><span style='background:#61ff4e;'></span>10)Forest</li>\n    </ul>\n  </div>\n  </div>\n\n  <style type='text/css'>\n    .my-legend .legend-title {\n      text-align: left;\n      margin-bottom: 2px;\n      margin-left: 2px;\n      font-weight: bold;\n      font-size: 90%;\n      }\n    .my-legend .legend-scale ul {\n      margin: 0;\n      margin-bottom: 5px;\n      padding: 0;\n      float: left;\n      list-style: none;\n      }\n    .my-legend .legend-scale ul li {\n      font-size: 80%;\n      list-style: none;\n      margin-left: 1px;\n      line-height: 18px;\n      margin-bottom: 2px;\n      }\n    .my-legend ul.legend-labels li span {\n      display: block;\n      float: left;\n      height: 16px;\n      width: 30px;\n      margin-right: 5px;\n      margin-left: 2px;\n      border: 1px solid #999;\n      }\n    .my-legend .legend-source {\n      font-size: 70%;\n      color: #999;\n      clear: both;\n      }\n    .my-legend a {\n      color: #777;\n      }\n  </style>\n</body>\n</html>\n"
          }
        },
        "83e2e98cbd43475caecc5e356874047d": {
          "model_module": "@jupyter-widgets/base",
          "model_name": "LayoutModel",
          "model_module_version": "1.2.0",
          "state": {
            "_model_module": "@jupyter-widgets/base",
            "_model_module_version": "1.2.0",
            "_model_name": "LayoutModel",
            "_view_count": null,
            "_view_module": "@jupyter-widgets/base",
            "_view_module_version": "1.2.0",
            "_view_name": "LayoutView",
            "align_content": null,
            "align_items": null,
            "align_self": null,
            "border": null,
            "bottom": null,
            "display": null,
            "flex": null,
            "flex_flow": null,
            "grid_area": null,
            "grid_auto_columns": null,
            "grid_auto_flow": null,
            "grid_auto_rows": null,
            "grid_column": null,
            "grid_gap": null,
            "grid_row": null,
            "grid_template_areas": null,
            "grid_template_columns": null,
            "grid_template_rows": null,
            "height": null,
            "justify_content": null,
            "justify_items": null,
            "left": null,
            "margin": null,
            "max_height": null,
            "max_width": null,
            "min_height": null,
            "min_width": null,
            "object_fit": null,
            "object_position": null,
            "order": null,
            "overflow": null,
            "overflow_x": null,
            "overflow_y": null,
            "padding": null,
            "right": null,
            "top": null,
            "visibility": null,
            "width": null
          }
        },
        "d2ec97f7433c44eab0e8504c689b689f": {
          "model_module": "@jupyter-widgets/controls",
          "model_name": "DescriptionStyleModel",
          "model_module_version": "1.5.0",
          "state": {
            "_model_module": "@jupyter-widgets/controls",
            "_model_module_version": "1.5.0",
            "_model_name": "DescriptionStyleModel",
            "_view_count": null,
            "_view_module": "@jupyter-widgets/base",
            "_view_module_version": "1.2.0",
            "_view_name": "StyleView",
            "description_width": ""
          }
        }
      }
    }
  },
  "cells": [
    {
      "cell_type": "markdown",
      "metadata": {
        "id": "view-in-github",
        "colab_type": "text"
      },
      "source": [
        "<a href=\"https://colab.research.google.com/github/zubair9703/Google-Earth-Engine-Random-Forest/blob/main/RF_for_NIR_RED_GREEN.ipynb\" target=\"_parent\"><img src=\"https://colab.research.google.com/assets/colab-badge.svg\" alt=\"Open In Colab\"/></a>"
      ]
    },
    {
      "cell_type": "code",
      "execution_count": 1,
      "metadata": {
        "id": "oOFWSpaJJ7Ed",
        "colab": {
          "base_uri": "https://localhost:8080/",
          "height": 1000
        },
        "outputId": "c8d68bd9-3c9e-401d-a8da-ed7fc66f7ed5"
      },
      "outputs": [
        {
          "output_type": "stream",
          "name": "stdout",
          "text": [
            "Looking in indexes: https://pypi.org/simple, https://us-python.pkg.dev/colab-wheels/public/simple/\n",
            "Collecting geemap\n",
            "  Downloading geemap-0.15.5-py2.py3-none-any.whl (2.0 MB)\n",
            "\u001b[K     |████████████████████████████████| 2.0 MB 5.0 MB/s \n",
            "\u001b[?25hCollecting ee-extra>=0.0.10\n",
            "  Downloading ee_extra-0.0.13.tar.gz (187 kB)\n",
            "\u001b[K     |████████████████████████████████| 187 kB 54.1 MB/s \n",
            "\u001b[?25hRequirement already satisfied: gdown in /usr/local/lib/python3.7/dist-packages (from geemap) (4.4.0)\n",
            "Collecting colour\n",
            "  Downloading colour-0.1.5-py2.py3-none-any.whl (23 kB)\n",
            "Requirement already satisfied: pillow in /usr/local/lib/python3.7/dist-packages (from geemap) (7.1.2)\n",
            "Collecting bqplot\n",
            "  Downloading bqplot-0.12.33-py2.py3-none-any.whl (1.2 MB)\n",
            "\u001b[K     |████████████████████████████████| 1.2 MB 39.9 MB/s \n",
            "\u001b[?25hCollecting geeadd>=0.5.1\n",
            "  Downloading geeadd-0.5.5-py3-none-any.whl (30 kB)\n",
            "Collecting ipyleaflet>=0.17.0\n",
            "  Downloading ipyleaflet-0.17.0-py2.py3-none-any.whl (3.3 MB)\n",
            "\u001b[K     |████████████████████████████████| 3.3 MB 39.0 MB/s \n",
            "\u001b[?25hCollecting pyshp>=2.1.3\n",
            "  Downloading pyshp-2.3.0-py2.py3-none-any.whl (46 kB)\n",
            "\u001b[K     |████████████████████████████████| 46 kB 3.6 MB/s \n",
            "\u001b[?25hCollecting ffmpeg-python\n",
            "  Downloading ffmpeg_python-0.2.0-py3-none-any.whl (25 kB)\n",
            "Requirement already satisfied: numpy in /usr/local/lib/python3.7/dist-packages (from geemap) (1.21.6)\n",
            "Collecting jupyterlab>=3\n",
            "  Downloading jupyterlab-3.4.4-py3-none-any.whl (8.8 MB)\n",
            "\u001b[K     |████████████████████████████████| 8.8 MB 38.4 MB/s \n",
            "\u001b[?25hRequirement already satisfied: earthengine-api>=0.1.304 in /usr/local/lib/python3.7/dist-packages (from geemap) (0.1.317)\n",
            "Collecting ipyfilechooser>=0.6.0\n",
            "  Downloading ipyfilechooser-0.6.0-py3-none-any.whl (11 kB)\n",
            "Collecting pycrs\n",
            "  Downloading PyCRS-1.0.2.tar.gz (36 kB)\n",
            "Collecting scooby\n",
            "  Downloading scooby-0.6.0-py3-none-any.whl (14 kB)\n",
            "Collecting geojson\n",
            "  Downloading geojson-2.5.0-py2.py3-none-any.whl (14 kB)\n",
            "Collecting ipytree\n",
            "  Downloading ipytree-0.2.1-py2.py3-none-any.whl (1.3 MB)\n",
            "\u001b[K     |████████████████████████████████| 1.3 MB 47.9 MB/s \n",
            "\u001b[?25hCollecting geocoder\n",
            "  Downloading geocoder-1.38.1-py2.py3-none-any.whl (98 kB)\n",
            "\u001b[K     |████████████████████████████████| 98 kB 8.1 MB/s \n",
            "\u001b[?25hCollecting sankee>=0.1.0\n",
            "  Downloading sankee-0.2.0.tar.gz (29 kB)\n",
            "Requirement already satisfied: pandas in /usr/local/lib/python3.7/dist-packages (from geemap) (1.3.5)\n",
            "Requirement already satisfied: matplotlib in /usr/local/lib/python3.7/dist-packages (from geemap) (3.2.2)\n",
            "Collecting folium>=0.11.0\n",
            "  Downloading folium-0.12.1.post1-py2.py3-none-any.whl (95 kB)\n",
            "\u001b[K     |████████████████████████████████| 95 kB 3.7 MB/s \n",
            "\u001b[?25hCollecting python-box\n",
            "  Downloading python_box-6.0.2-cp37-cp37m-manylinux_2_17_x86_64.manylinux2014_x86_64.whl (3.0 MB)\n",
            "\u001b[K     |████████████████████████████████| 3.0 MB 41.5 MB/s \n",
            "\u001b[?25hCollecting xyzservices\n",
            "  Downloading xyzservices-2022.6.0-py3-none-any.whl (36 kB)\n",
            "Collecting ipyevents\n",
            "  Downloading ipyevents-2.0.1-py2.py3-none-any.whl (130 kB)\n",
            "\u001b[K     |████████████████████████████████| 130 kB 62.2 MB/s \n",
            "\u001b[?25hCollecting whiteboxgui>=0.6.0\n",
            "  Downloading whiteboxgui-0.7.0-py2.py3-none-any.whl (99 kB)\n",
            "\u001b[K     |████████████████████████████████| 99 kB 9.4 MB/s \n",
            "\u001b[?25hRequirement already satisfied: future in /usr/local/lib/python3.7/dist-packages (from earthengine-api>=0.1.304->geemap) (0.16.0)\n",
            "Requirement already satisfied: google-cloud-storage in /usr/local/lib/python3.7/dist-packages (from earthengine-api>=0.1.304->geemap) (1.18.1)\n",
            "Requirement already satisfied: google-api-python-client<2,>=1.12.1 in /usr/local/lib/python3.7/dist-packages (from earthengine-api>=0.1.304->geemap) (1.12.11)\n",
            "Requirement already satisfied: httplib2shim in /usr/local/lib/python3.7/dist-packages (from earthengine-api>=0.1.304->geemap) (0.0.3)\n",
            "Requirement already satisfied: six in /usr/local/lib/python3.7/dist-packages (from earthengine-api>=0.1.304->geemap) (1.15.0)\n",
            "Requirement already satisfied: google-auth-httplib2>=0.0.3 in /usr/local/lib/python3.7/dist-packages (from earthengine-api>=0.1.304->geemap) (0.0.4)\n",
            "Requirement already satisfied: google-auth>=1.4.1 in /usr/local/lib/python3.7/dist-packages (from earthengine-api>=0.1.304->geemap) (1.35.0)\n",
            "Requirement already satisfied: httplib2<1dev,>=0.9.2 in /usr/local/lib/python3.7/dist-packages (from earthengine-api>=0.1.304->geemap) (0.17.4)\n",
            "Requirement already satisfied: branca>=0.3.0 in /usr/local/lib/python3.7/dist-packages (from folium>=0.11.0->geemap) (0.5.0)\n",
            "Requirement already satisfied: jinja2>=2.9 in /usr/local/lib/python3.7/dist-packages (from folium>=0.11.0->geemap) (2.11.3)\n",
            "Requirement already satisfied: requests in /usr/local/lib/python3.7/dist-packages (from folium>=0.11.0->geemap) (2.23.0)\n",
            "Collecting beautifulsoup4>=4.9.0\n",
            "  Downloading beautifulsoup4-4.11.1-py3-none-any.whl (128 kB)\n",
            "\u001b[K     |████████████████████████████████| 128 kB 58.2 MB/s \n",
            "\u001b[?25hCollecting logzero>=1.5.0\n",
            "  Downloading logzero-1.7.0-py2.py3-none-any.whl (16 kB)\n",
            "Requirement already satisfied: soupsieve>1.2 in /usr/local/lib/python3.7/dist-packages (from beautifulsoup4>=4.9.0->geeadd>=0.5.1->geemap) (2.3.2.post1)\n",
            "Requirement already satisfied: uritemplate<4dev,>=3.0.0 in /usr/local/lib/python3.7/dist-packages (from google-api-python-client<2,>=1.12.1->earthengine-api>=0.1.304->geemap) (3.0.1)\n",
            "Requirement already satisfied: google-api-core<3dev,>=1.21.0 in /usr/local/lib/python3.7/dist-packages (from google-api-python-client<2,>=1.12.1->earthengine-api>=0.1.304->geemap) (1.31.6)\n",
            "Requirement already satisfied: googleapis-common-protos<2.0dev,>=1.6.0 in /usr/local/lib/python3.7/dist-packages (from google-api-core<3dev,>=1.21.0->google-api-python-client<2,>=1.12.1->earthengine-api>=0.1.304->geemap) (1.56.4)\n",
            "Requirement already satisfied: protobuf<4.0.0dev,>=3.12.0 in /usr/local/lib/python3.7/dist-packages (from google-api-core<3dev,>=1.21.0->google-api-python-client<2,>=1.12.1->earthengine-api>=0.1.304->geemap) (3.17.3)\n",
            "Requirement already satisfied: pytz in /usr/local/lib/python3.7/dist-packages (from google-api-core<3dev,>=1.21.0->google-api-python-client<2,>=1.12.1->earthengine-api>=0.1.304->geemap) (2022.1)\n",
            "Requirement already satisfied: setuptools>=40.3.0 in /usr/local/lib/python3.7/dist-packages (from google-api-core<3dev,>=1.21.0->google-api-python-client<2,>=1.12.1->earthengine-api>=0.1.304->geemap) (57.4.0)\n",
            "Requirement already satisfied: packaging>=14.3 in /usr/local/lib/python3.7/dist-packages (from google-api-core<3dev,>=1.21.0->google-api-python-client<2,>=1.12.1->earthengine-api>=0.1.304->geemap) (21.3)\n",
            "Requirement already satisfied: pyasn1-modules>=0.2.1 in /usr/local/lib/python3.7/dist-packages (from google-auth>=1.4.1->earthengine-api>=0.1.304->geemap) (0.2.8)\n",
            "Requirement already satisfied: cachetools<5.0,>=2.0.0 in /usr/local/lib/python3.7/dist-packages (from google-auth>=1.4.1->earthengine-api>=0.1.304->geemap) (4.2.4)\n",
            "Requirement already satisfied: rsa<5,>=3.1.4 in /usr/local/lib/python3.7/dist-packages (from google-auth>=1.4.1->earthengine-api>=0.1.304->geemap) (4.8)\n",
            "Requirement already satisfied: ipywidgets in /usr/local/lib/python3.7/dist-packages (from ipyfilechooser>=0.6.0->geemap) (7.7.1)\n",
            "Collecting traittypes<3,>=0.2.1\n",
            "  Downloading traittypes-0.2.1-py2.py3-none-any.whl (8.6 kB)\n",
            "Requirement already satisfied: traitlets>=4.3.1 in /usr/local/lib/python3.7/dist-packages (from ipywidgets->ipyfilechooser>=0.6.0->geemap) (5.1.1)\n",
            "Requirement already satisfied: jupyterlab-widgets>=1.0.0 in /usr/local/lib/python3.7/dist-packages (from ipywidgets->ipyfilechooser>=0.6.0->geemap) (1.1.1)\n",
            "Requirement already satisfied: ipython-genutils~=0.2.0 in /usr/local/lib/python3.7/dist-packages (from ipywidgets->ipyfilechooser>=0.6.0->geemap) (0.2.0)\n",
            "Requirement already satisfied: ipython>=4.0.0 in /usr/local/lib/python3.7/dist-packages (from ipywidgets->ipyfilechooser>=0.6.0->geemap) (5.5.0)\n",
            "Requirement already satisfied: widgetsnbextension~=3.6.0 in /usr/local/lib/python3.7/dist-packages (from ipywidgets->ipyfilechooser>=0.6.0->geemap) (3.6.1)\n",
            "Requirement already satisfied: ipykernel>=4.5.1 in /usr/local/lib/python3.7/dist-packages (from ipywidgets->ipyfilechooser>=0.6.0->geemap) (4.10.1)\n",
            "Requirement already satisfied: jupyter-client in /usr/local/lib/python3.7/dist-packages (from ipykernel>=4.5.1->ipywidgets->ipyfilechooser>=0.6.0->geemap) (5.3.5)\n",
            "Requirement already satisfied: tornado>=4.0 in /usr/local/lib/python3.7/dist-packages (from ipykernel>=4.5.1->ipywidgets->ipyfilechooser>=0.6.0->geemap) (5.1.1)\n",
            "Requirement already satisfied: simplegeneric>0.8 in /usr/local/lib/python3.7/dist-packages (from ipython>=4.0.0->ipywidgets->ipyfilechooser>=0.6.0->geemap) (0.8.1)\n",
            "Requirement already satisfied: pexpect in /usr/local/lib/python3.7/dist-packages (from ipython>=4.0.0->ipywidgets->ipyfilechooser>=0.6.0->geemap) (4.8.0)\n",
            "Requirement already satisfied: prompt-toolkit<2.0.0,>=1.0.4 in /usr/local/lib/python3.7/dist-packages (from ipython>=4.0.0->ipywidgets->ipyfilechooser>=0.6.0->geemap) (1.0.18)\n",
            "Requirement already satisfied: pygments in /usr/local/lib/python3.7/dist-packages (from ipython>=4.0.0->ipywidgets->ipyfilechooser>=0.6.0->geemap) (2.6.1)\n",
            "Requirement already satisfied: pickleshare in /usr/local/lib/python3.7/dist-packages (from ipython>=4.0.0->ipywidgets->ipyfilechooser>=0.6.0->geemap) (0.7.5)\n",
            "Requirement already satisfied: decorator in /usr/local/lib/python3.7/dist-packages (from ipython>=4.0.0->ipywidgets->ipyfilechooser>=0.6.0->geemap) (4.4.2)\n",
            "Requirement already satisfied: MarkupSafe>=0.23 in /usr/local/lib/python3.7/dist-packages (from jinja2>=2.9->folium>=0.11.0->geemap) (2.0.1)\n",
            "Requirement already satisfied: notebook<7 in /usr/local/lib/python3.7/dist-packages (from jupyterlab>=3->geemap) (5.3.1)\n",
            "Requirement already satisfied: jupyter-core in /usr/local/lib/python3.7/dist-packages (from jupyterlab>=3->geemap) (4.11.1)\n",
            "Collecting jupyterlab-server~=2.10\n",
            "  Downloading jupyterlab_server-2.15.0-py3-none-any.whl (54 kB)\n",
            "\u001b[K     |████████████████████████████████| 54 kB 2.4 MB/s \n",
            "\u001b[?25hCollecting jupyter-server~=1.16\n",
            "  Downloading jupyter_server-1.18.1-py3-none-any.whl (344 kB)\n",
            "\u001b[K     |████████████████████████████████| 344 kB 58.9 MB/s \n",
            "\u001b[?25hCollecting nbclassic\n",
            "  Downloading nbclassic-0.4.3-py3-none-any.whl (9.7 MB)\n",
            "\u001b[K     |████████████████████████████████| 9.7 MB 29.8 MB/s \n",
            "\u001b[?25hCollecting tornado>=4.0\n",
            "  Downloading tornado-6.2-cp37-abi3-manylinux_2_5_x86_64.manylinux1_x86_64.manylinux_2_17_x86_64.manylinux2014_x86_64.whl (423 kB)\n",
            "\u001b[K     |████████████████████████████████| 423 kB 57.9 MB/s \n",
            "\u001b[?25hRequirement already satisfied: argon2-cffi in /usr/local/lib/python3.7/dist-packages (from jupyter-server~=1.16->jupyterlab>=3->geemap) (21.3.0)\n",
            "Collecting jupyter-client\n",
            "  Downloading jupyter_client-7.3.4-py3-none-any.whl (132 kB)\n",
            "\u001b[K     |████████████████████████████████| 132 kB 52.1 MB/s \n",
            "\u001b[?25hRequirement already satisfied: Send2Trash in /usr/local/lib/python3.7/dist-packages (from jupyter-server~=1.16->jupyterlab>=3->geemap) (1.8.0)\n",
            "Collecting websocket-client\n",
            "  Downloading websocket_client-1.3.3-py3-none-any.whl (54 kB)\n",
            "\u001b[K     |████████████████████████████████| 54 kB 2.7 MB/s \n",
            "\u001b[?25hRequirement already satisfied: prometheus-client in /usr/local/lib/python3.7/dist-packages (from jupyter-server~=1.16->jupyterlab>=3->geemap) (0.14.1)\n",
            "Collecting anyio<4,>=3.1.0\n",
            "  Downloading anyio-3.6.1-py3-none-any.whl (80 kB)\n",
            "\u001b[K     |████████████████████████████████| 80 kB 7.5 MB/s \n",
            "\u001b[?25hRequirement already satisfied: terminado>=0.8.3 in /usr/local/lib/python3.7/dist-packages (from jupyter-server~=1.16->jupyterlab>=3->geemap) (0.13.3)\n",
            "Requirement already satisfied: nbformat>=5.2.0 in /usr/local/lib/python3.7/dist-packages (from jupyter-server~=1.16->jupyterlab>=3->geemap) (5.4.0)\n",
            "Collecting nbconvert>=6.4.4\n",
            "  Downloading nbconvert-6.5.0-py3-none-any.whl (561 kB)\n",
            "\u001b[K     |████████████████████████████████| 561 kB 49.1 MB/s \n",
            "\u001b[?25hRequirement already satisfied: pyzmq>=17 in /usr/local/lib/python3.7/dist-packages (from jupyter-server~=1.16->jupyterlab>=3->geemap) (23.2.0)\n",
            "Requirement already satisfied: typing-extensions in /usr/local/lib/python3.7/dist-packages (from anyio<4,>=3.1.0->jupyter-server~=1.16->jupyterlab>=3->geemap) (4.1.1)\n",
            "Requirement already satisfied: idna>=2.8 in /usr/local/lib/python3.7/dist-packages (from anyio<4,>=3.1.0->jupyter-server~=1.16->jupyterlab>=3->geemap) (2.10)\n",
            "Collecting sniffio>=1.1\n",
            "  Downloading sniffio-1.2.0-py3-none-any.whl (10 kB)\n",
            "Requirement already satisfied: entrypoints in /usr/local/lib/python3.7/dist-packages (from jupyter-client->ipykernel>=4.5.1->ipywidgets->ipyfilechooser>=0.6.0->geemap) (0.4)\n",
            "Requirement already satisfied: python-dateutil>=2.8.2 in /usr/local/lib/python3.7/dist-packages (from jupyter-client->ipykernel>=4.5.1->ipywidgets->ipyfilechooser>=0.6.0->geemap) (2.8.2)\n",
            "Requirement already satisfied: nest-asyncio>=1.5.4 in /usr/local/lib/python3.7/dist-packages (from jupyter-client->ipykernel>=4.5.1->ipywidgets->ipyfilechooser>=0.6.0->geemap) (1.5.5)\n",
            "Requirement already satisfied: importlib-metadata>=3.6 in /usr/local/lib/python3.7/dist-packages (from jupyterlab-server~=2.10->jupyterlab>=3->geemap) (4.12.0)\n",
            "Requirement already satisfied: jsonschema>=3.0.1 in /usr/local/lib/python3.7/dist-packages (from jupyterlab-server~=2.10->jupyterlab>=3->geemap) (4.3.3)\n",
            "Collecting jinja2>=2.9\n",
            "  Downloading Jinja2-3.1.2-py3-none-any.whl (133 kB)\n",
            "\u001b[K     |████████████████████████████████| 133 kB 58.9 MB/s \n",
            "\u001b[?25hCollecting json5\n",
            "  Downloading json5-0.9.8.tar.gz (22 kB)\n",
            "Requirement already satisfied: babel in /usr/local/lib/python3.7/dist-packages (from jupyterlab-server~=2.10->jupyterlab>=3->geemap) (2.10.3)\n",
            "Requirement already satisfied: zipp>=0.5 in /usr/local/lib/python3.7/dist-packages (from importlib-metadata>=3.6->jupyterlab-server~=2.10->jupyterlab>=3->geemap) (3.8.1)\n",
            "Requirement already satisfied: importlib-resources>=1.4.0 in /usr/local/lib/python3.7/dist-packages (from jsonschema>=3.0.1->jupyterlab-server~=2.10->jupyterlab>=3->geemap) (5.8.0)\n",
            "Requirement already satisfied: pyrsistent!=0.17.0,!=0.17.1,!=0.17.2,>=0.14.0 in /usr/local/lib/python3.7/dist-packages (from jsonschema>=3.0.1->jupyterlab-server~=2.10->jupyterlab>=3->geemap) (0.18.1)\n",
            "Requirement already satisfied: attrs>=17.4.0 in /usr/local/lib/python3.7/dist-packages (from jsonschema>=3.0.1->jupyterlab-server~=2.10->jupyterlab>=3->geemap) (21.4.0)\n",
            "Requirement already satisfied: jupyterlab-pygments in /usr/local/lib/python3.7/dist-packages (from nbconvert>=6.4.4->jupyter-server~=1.16->jupyterlab>=3->geemap) (0.2.2)\n",
            "Requirement already satisfied: tinycss2 in /usr/local/lib/python3.7/dist-packages (from nbconvert>=6.4.4->jupyter-server~=1.16->jupyterlab>=3->geemap) (1.1.1)\n",
            "Requirement already satisfied: bleach in /usr/local/lib/python3.7/dist-packages (from nbconvert>=6.4.4->jupyter-server~=1.16->jupyterlab>=3->geemap) (5.0.1)\n",
            "Requirement already satisfied: mistune<2,>=0.8.1 in /usr/local/lib/python3.7/dist-packages (from nbconvert>=6.4.4->jupyter-server~=1.16->jupyterlab>=3->geemap) (0.8.4)\n",
            "Requirement already satisfied: defusedxml in /usr/local/lib/python3.7/dist-packages (from nbconvert>=6.4.4->jupyter-server~=1.16->jupyterlab>=3->geemap) (0.7.1)\n",
            "Requirement already satisfied: nbclient>=0.5.0 in /usr/local/lib/python3.7/dist-packages (from nbconvert>=6.4.4->jupyter-server~=1.16->jupyterlab>=3->geemap) (0.6.6)\n",
            "Requirement already satisfied: pandocfilters>=1.4.1 in /usr/local/lib/python3.7/dist-packages (from nbconvert>=6.4.4->jupyter-server~=1.16->jupyterlab>=3->geemap) (1.5.0)\n",
            "Collecting traitlets>=4.3.1\n",
            "  Downloading traitlets-5.3.0-py3-none-any.whl (106 kB)\n",
            "\u001b[K     |████████████████████████████████| 106 kB 55.3 MB/s \n",
            "\u001b[?25hRequirement already satisfied: fastjsonschema in /usr/local/lib/python3.7/dist-packages (from nbformat>=5.2.0->jupyter-server~=1.16->jupyterlab>=3->geemap) (2.16.1)\n",
            "Requirement already satisfied: pyparsing!=3.0.5,>=2.0.2 in /usr/local/lib/python3.7/dist-packages (from packaging>=14.3->google-api-core<3dev,>=1.21.0->google-api-python-client<2,>=1.12.1->earthengine-api>=0.1.304->geemap) (3.0.9)\n",
            "Requirement already satisfied: wcwidth in /usr/local/lib/python3.7/dist-packages (from prompt-toolkit<2.0.0,>=1.0.4->ipython>=4.0.0->ipywidgets->ipyfilechooser>=0.6.0->geemap) (0.2.5)\n",
            "Requirement already satisfied: pyasn1<0.5.0,>=0.4.6 in /usr/local/lib/python3.7/dist-packages (from pyasn1-modules>=0.2.1->google-auth>=1.4.1->earthengine-api>=0.1.304->geemap) (0.4.8)\n",
            "Requirement already satisfied: chardet<4,>=3.0.2 in /usr/local/lib/python3.7/dist-packages (from requests->folium>=0.11.0->geemap) (3.0.4)\n",
            "Requirement already satisfied: urllib3!=1.25.0,!=1.25.1,<1.26,>=1.21.1 in /usr/local/lib/python3.7/dist-packages (from requests->folium>=0.11.0->geemap) (1.24.3)\n",
            "Requirement already satisfied: certifi>=2017.4.17 in /usr/local/lib/python3.7/dist-packages (from requests->folium>=0.11.0->geemap) (2022.6.15)\n",
            "Requirement already satisfied: plotly>=5.2.2 in /usr/local/lib/python3.7/dist-packages (from sankee>=0.1.0->geemap) (5.5.0)\n",
            "Requirement already satisfied: tenacity>=6.2.0 in /usr/local/lib/python3.7/dist-packages (from plotly>=5.2.2->sankee>=0.1.0->geemap) (8.0.1)\n",
            "Requirement already satisfied: ptyprocess in /usr/local/lib/python3.7/dist-packages (from terminado>=0.8.3->jupyter-server~=1.16->jupyterlab>=3->geemap) (0.7.0)\n",
            "Collecting whitebox\n",
            "  Downloading whitebox-2.1.3-py2.py3-none-any.whl (75 kB)\n",
            "\u001b[K     |████████████████████████████████| 75 kB 5.0 MB/s \n",
            "\u001b[?25hRequirement already satisfied: argon2-cffi-bindings in /usr/local/lib/python3.7/dist-packages (from argon2-cffi->jupyter-server~=1.16->jupyterlab>=3->geemap) (21.2.0)\n",
            "Requirement already satisfied: cffi>=1.0.1 in /usr/local/lib/python3.7/dist-packages (from argon2-cffi-bindings->argon2-cffi->jupyter-server~=1.16->jupyterlab>=3->geemap) (1.15.1)\n",
            "Requirement already satisfied: pycparser in /usr/local/lib/python3.7/dist-packages (from cffi>=1.0.1->argon2-cffi-bindings->argon2-cffi->jupyter-server~=1.16->jupyterlab>=3->geemap) (2.21)\n",
            "Requirement already satisfied: webencodings in /usr/local/lib/python3.7/dist-packages (from bleach->nbconvert>=6.4.4->jupyter-server~=1.16->jupyterlab>=3->geemap) (0.5.1)\n",
            "Requirement already satisfied: filelock in /usr/local/lib/python3.7/dist-packages (from gdown->geemap) (3.7.1)\n",
            "Requirement already satisfied: tqdm in /usr/local/lib/python3.7/dist-packages (from gdown->geemap) (4.64.0)\n",
            "Collecting ratelim\n",
            "  Downloading ratelim-0.1.6-py2.py3-none-any.whl (4.0 kB)\n",
            "Requirement already satisfied: click in /usr/local/lib/python3.7/dist-packages (from geocoder->geemap) (7.1.2)\n",
            "Requirement already satisfied: google-resumable-media<0.5.0dev,>=0.3.1 in /usr/local/lib/python3.7/dist-packages (from google-cloud-storage->earthengine-api>=0.1.304->geemap) (0.4.1)\n",
            "Requirement already satisfied: google-cloud-core<2.0dev,>=1.0.0 in /usr/local/lib/python3.7/dist-packages (from google-cloud-storage->earthengine-api>=0.1.304->geemap) (1.0.3)\n",
            "Requirement already satisfied: cycler>=0.10 in /usr/local/lib/python3.7/dist-packages (from matplotlib->geemap) (0.11.0)\n",
            "Requirement already satisfied: kiwisolver>=1.0.1 in /usr/local/lib/python3.7/dist-packages (from matplotlib->geemap) (1.4.4)\n",
            "Collecting notebook-shim>=0.1.0\n",
            "  Downloading notebook_shim-0.1.0-py3-none-any.whl (13 kB)\n",
            "Requirement already satisfied: PySocks!=1.5.7,>=1.5.6 in /usr/local/lib/python3.7/dist-packages (from requests->folium>=0.11.0->geemap) (1.7.1)\n",
            "Building wheels for collected packages: ee-extra, sankee, json5, pycrs\n",
            "  Building wheel for ee-extra (setup.py) ... \u001b[?25l\u001b[?25hdone\n",
            "  Created wheel for ee-extra: filename=ee_extra-0.0.13-py3-none-any.whl size=198407 sha256=1d4a8045a50c1b4b5ff392c56807a6d9414711015c99ff66b4fb60a216db4a93\n",
            "  Stored in directory: /root/.cache/pip/wheels/54/f2/bc/51930fbbffdd2ef1b5aac2e332c068e4913e56634f90efdef8\n",
            "  Building wheel for sankee (setup.py) ... \u001b[?25l\u001b[?25hdone\n",
            "  Created wheel for sankee: filename=sankee-0.2.0-py3-none-any.whl size=28745 sha256=f8c3b0787fddfc78755a241af3d89b31f01ab7e5daab22a9dfa70658d1cfb58f\n",
            "  Stored in directory: /root/.cache/pip/wheels/36/b4/ac/84c3f06e5c44d3fe5029713232438862881e6e1f26657d5fd8\n",
            "  Building wheel for json5 (setup.py) ... \u001b[?25l\u001b[?25hdone\n",
            "  Created wheel for json5: filename=json5-0.9.8-py2.py3-none-any.whl size=18604 sha256=2dcb246cd5961acf380fb1df0c99caf7b141ab6d0823aa839ad0966442f0e2ef\n",
            "  Stored in directory: /root/.cache/pip/wheels/ac/9b/de/6e4fd8f159d3dfa42c42ceddf2184fda29ea7fb1e8f5f8371c\n",
            "  Building wheel for pycrs (setup.py) ... \u001b[?25l\u001b[?25hdone\n",
            "  Created wheel for pycrs: filename=PyCRS-1.0.2-py3-none-any.whl size=32704 sha256=60b1b8321d26f9cd43f0d5b14d2ec0eccca39e62f4ef259a7a2fa1a854dd5231\n",
            "  Stored in directory: /root/.cache/pip/wheels/3e/ce/32/1ec0aba6b9770681a423e82f0274c57d09ad2c20c2864901f9\n",
            "Successfully built ee-extra sankee json5 pycrs\n",
            "Installing collected packages: traitlets, tornado, jupyter-client, jinja2, beautifulsoup4, sniffio, nbconvert, websocket-client, anyio, jupyter-server, notebook-shim, json5, xyzservices, whitebox, traittypes, ratelim, nbclassic, logzero, jupyterlab-server, ipytree, ipyfilechooser, whiteboxgui, scooby, sankee, python-box, pyshp, pycrs, jupyterlab, ipyleaflet, ipyevents, geojson, geocoder, geeadd, folium, ffmpeg-python, ee-extra, colour, bqplot, geemap\n",
            "  Attempting uninstall: traitlets\n",
            "    Found existing installation: traitlets 5.1.1\n",
            "    Uninstalling traitlets-5.1.1:\n",
            "      Successfully uninstalled traitlets-5.1.1\n",
            "  Attempting uninstall: tornado\n",
            "    Found existing installation: tornado 5.1.1\n",
            "    Uninstalling tornado-5.1.1:\n",
            "      Successfully uninstalled tornado-5.1.1\n",
            "  Attempting uninstall: jupyter-client\n",
            "    Found existing installation: jupyter-client 5.3.5\n",
            "    Uninstalling jupyter-client-5.3.5:\n",
            "      Successfully uninstalled jupyter-client-5.3.5\n",
            "  Attempting uninstall: jinja2\n",
            "    Found existing installation: Jinja2 2.11.3\n",
            "    Uninstalling Jinja2-2.11.3:\n",
            "      Successfully uninstalled Jinja2-2.11.3\n",
            "  Attempting uninstall: beautifulsoup4\n",
            "    Found existing installation: beautifulsoup4 4.6.3\n",
            "    Uninstalling beautifulsoup4-4.6.3:\n",
            "      Successfully uninstalled beautifulsoup4-4.6.3\n",
            "  Attempting uninstall: nbconvert\n",
            "    Found existing installation: nbconvert 5.6.1\n",
            "    Uninstalling nbconvert-5.6.1:\n",
            "      Successfully uninstalled nbconvert-5.6.1\n",
            "  Attempting uninstall: folium\n",
            "    Found existing installation: folium 0.8.3\n",
            "    Uninstalling folium-0.8.3:\n",
            "      Successfully uninstalled folium-0.8.3\n",
            "\u001b[31mERROR: pip's dependency resolver does not currently take into account all the packages that are installed. This behaviour is the source of the following dependency conflicts.\n",
            "google-colab 1.0.0 requires tornado~=5.1.0, but you have tornado 6.2 which is incompatible.\n",
            "flask 1.1.4 requires Jinja2<3.0,>=2.10.1, but you have jinja2 3.1.2 which is incompatible.\n",
            "datascience 0.10.6 requires folium==0.2.1, but you have folium 0.12.1.post1 which is incompatible.\u001b[0m\n",
            "Successfully installed anyio-3.6.1 beautifulsoup4-4.11.1 bqplot-0.12.33 colour-0.1.5 ee-extra-0.0.13 ffmpeg-python-0.2.0 folium-0.12.1.post1 geeadd-0.5.5 geemap-0.15.5 geocoder-1.38.1 geojson-2.5.0 ipyevents-2.0.1 ipyfilechooser-0.6.0 ipyleaflet-0.17.0 ipytree-0.2.1 jinja2-3.1.2 json5-0.9.8 jupyter-client-7.3.4 jupyter-server-1.18.1 jupyterlab-3.4.4 jupyterlab-server-2.15.0 logzero-1.7.0 nbclassic-0.4.3 nbconvert-6.5.0 notebook-shim-0.1.0 pycrs-1.0.2 pyshp-2.3.0 python-box-6.0.2 ratelim-0.1.6 sankee-0.2.0 scooby-0.6.0 sniffio-1.2.0 tornado-6.2 traitlets-5.3.0 traittypes-0.2.1 websocket-client-1.3.3 whitebox-2.1.3 whiteboxgui-0.7.0 xyzservices-2022.6.0\n"
          ]
        },
        {
          "output_type": "display_data",
          "data": {
            "application/vnd.colab-display-data+json": {
              "pip_warning": {
                "packages": [
                  "tornado"
                ]
              }
            }
          },
          "metadata": {}
        }
      ],
      "source": [
        "!pip install geemap\n"
      ]
    },
    {
      "cell_type": "code",
      "source": [
        "import ee\n",
        "import geemap\n"
      ],
      "metadata": {
        "id": "rSOftCdULP-4"
      },
      "execution_count": 2,
      "outputs": []
    },
    {
      "cell_type": "code",
      "source": [
        "Map = geemap.Map()\n",
        "Map"
      ],
      "metadata": {
        "colab": {
          "base_uri": "https://localhost:8080/",
          "height": 621,
          "referenced_widgets": [
            "df55afa7c6c749a58f8b513419ea00b8",
            "4d05903d946747efb158df3f8ec43f83",
            "f93389ec12d94ae89ad92d1d9f915ded",
            "9d4651db7a004311940bf2056cd55608",
            "e15036a4997d45af8c9ac7c305d503ea",
            "5b8be3e5192c44e8a948ab3050223c24",
            "e91f4956343b49f28a0d7a131c8bc3e5",
            "a142ee802ffd442fb034454d65e4bd14",
            "824b06d526a64f72bd004fb5c949a568",
            "17205a490f9c496eb88e605d300f8780",
            "b13d5ce169be4eb0ab7e04daac9dc21c",
            "1d72ed0ff5e747ffad395b3e800e6fa3",
            "280af672cd274e9c81a854578e09fcb3",
            "4f53b2d3a3db495eb4519190e88b7ee3",
            "fc365c9bdc904ece892d35c53abb14a9",
            "cbf6e1bcd732461781f70a7eb79d3528",
            "4f7132ce07d24a16b7aa5844dd80d45e",
            "0ce728c51167405aa87db16363a96b75",
            "898bd4d89651434195ecc981bed154fd",
            "e477829f93dc46708036b6bef94c1004",
            "e42d2610f5f746cf8e5d451718592762",
            "c8ba72621b634d79812bd3ffc838549a",
            "c76d47e32b7e4cd9b0f6ae3a8e441898",
            "b31409a8d1214b54911c830cc03fa0a3",
            "fc69bbec40df4cb880c7c07c33f5874e",
            "2fb9674aead244248cc549721485d0bf",
            "ba85b6a72ddb4f9487830f1a5c9a655e",
            "b1a1d20c2e73434691eb9efe623295d3",
            "a56f6e68154a45039a1a434315e51882",
            "44dc1aa19f334db1bed877e67a8aa82e",
            "0b358880cab446f3ac18f7244cb5d980",
            "52e8e413c12b44c091bb60c18a7b807d",
            "83e2e98cbd43475caecc5e356874047d",
            "d2ec97f7433c44eab0e8504c689b689f"
          ]
        },
        "id": "GqMPZj9cLS1_",
        "outputId": "f8942ace-550a-459b-f551-23578210d024"
      },
      "execution_count": 3,
      "outputs": [
        {
          "output_type": "display_data",
          "data": {
            "text/plain": [
              "Map(center=[20, 0], controls=(WidgetControl(options=['position', 'transparent_bg'], widget=HBox(children=(Togg…"
            ],
            "application/vnd.jupyter.widget-view+json": {
              "version_major": 2,
              "version_minor": 0,
              "model_id": "df55afa7c6c749a58f8b513419ea00b8"
            }
          },
          "metadata": {
            "application/vnd.jupyter.widget-view+json": {
              "colab": {
                "custom_widget_manager": {
                  "url": "https://ssl.gstatic.com/colaboratory-static/widgets/colab-cdn-widget-manager/d2e234f7cc04bf79/manager.min.js"
                }
              }
            }
          }
        }
      ]
    },
    {
      "cell_type": "code",
      "source": [
        "s2=ee.ImageCollection(\"COPERNICUS/S2_SR\")\n",
        "roi=ee.Geometry.Polygon([[[77.45036134046319, 13.177235646600929],[77.45036134046319, 13.081444893977725],[77.5583363465667, 13.081444893977725],[77.5583363465667, 13.177235646600929]]])\n",
        "filtered= s2.filter(ee.Filter.date('2022-01-01','2022-04-25')).filter(ee.Filter.bounds(roi)).filter(ee.Filter.lt('CLOUDY_PIXEL_PERCENTAGE', .5)).first().clip(roi)"
      ],
      "metadata": {
        "id": "mKEqqcJQLUeG"
      },
      "execution_count": 4,
      "outputs": []
    },
    {
      "cell_type": "code",
      "source": [
        "Map.setCenter(77.49525079053643,13.12339059592214,12)\n",
        "Map.addLayer(filtered,{\"bands\":['B8','B4','B3'],\"min\":51,\"max\":4626},'Fcc')\n",
        "Map"
      ],
      "metadata": {
        "id": "ZURONjH2MkH5",
        "colab": {
          "base_uri": "https://localhost:8080/",
          "height": 621,
          "referenced_widgets": [
            "df55afa7c6c749a58f8b513419ea00b8",
            "4d05903d946747efb158df3f8ec43f83",
            "f93389ec12d94ae89ad92d1d9f915ded",
            "9d4651db7a004311940bf2056cd55608",
            "e15036a4997d45af8c9ac7c305d503ea",
            "5b8be3e5192c44e8a948ab3050223c24",
            "e91f4956343b49f28a0d7a131c8bc3e5",
            "a142ee802ffd442fb034454d65e4bd14",
            "824b06d526a64f72bd004fb5c949a568",
            "17205a490f9c496eb88e605d300f8780",
            "b13d5ce169be4eb0ab7e04daac9dc21c",
            "1d72ed0ff5e747ffad395b3e800e6fa3",
            "280af672cd274e9c81a854578e09fcb3",
            "4f53b2d3a3db495eb4519190e88b7ee3",
            "fc365c9bdc904ece892d35c53abb14a9",
            "cbf6e1bcd732461781f70a7eb79d3528",
            "4f7132ce07d24a16b7aa5844dd80d45e",
            "0ce728c51167405aa87db16363a96b75",
            "898bd4d89651434195ecc981bed154fd",
            "e477829f93dc46708036b6bef94c1004",
            "e42d2610f5f746cf8e5d451718592762",
            "c8ba72621b634d79812bd3ffc838549a",
            "c76d47e32b7e4cd9b0f6ae3a8e441898",
            "b31409a8d1214b54911c830cc03fa0a3",
            "fc69bbec40df4cb880c7c07c33f5874e",
            "2fb9674aead244248cc549721485d0bf",
            "ba85b6a72ddb4f9487830f1a5c9a655e",
            "b1a1d20c2e73434691eb9efe623295d3",
            "a56f6e68154a45039a1a434315e51882",
            "44dc1aa19f334db1bed877e67a8aa82e",
            "0b358880cab446f3ac18f7244cb5d980",
            "52e8e413c12b44c091bb60c18a7b807d",
            "83e2e98cbd43475caecc5e356874047d",
            "d2ec97f7433c44eab0e8504c689b689f"
          ]
        },
        "outputId": "dc0bcacb-301b-4993-f6c5-5928e8863f25"
      },
      "execution_count": 5,
      "outputs": [
        {
          "output_type": "display_data",
          "data": {
            "text/plain": [
              "Map(center=[13.12339059592214, 77.49525079053643], controls=(WidgetControl(options=['position', 'transparent_b…"
            ],
            "application/vnd.jupyter.widget-view+json": {
              "version_major": 2,
              "version_minor": 0,
              "model_id": "df55afa7c6c749a58f8b513419ea00b8"
            }
          },
          "metadata": {
            "application/vnd.jupyter.widget-view+json": {
              "colab": {
                "custom_widget_manager": {
                  "url": "https://ssl.gstatic.com/colaboratory-static/widgets/colab-cdn-widget-manager/d2e234f7cc04bf79/manager.min.js"
                }
              }
            }
          }
        }
      ]
    },
    {
      "cell_type": "code",
      "source": [
        "gcp=ee.FeatureCollection(\"projects/ee-zubahme97/assets/finaltraning_set\")\n",
        "bands= ['B8','B4','B3']\n",
        "sample= filtered.select(bands).sampleRegions(**{\"collection\":gcp,\"properties\":['landcover'],\"scale\":10})\n",
        "sample = sample.randomColumn()\n",
        "trainingGcp = sample.filter(ee.Filter.lt('random', 0.7));\n",
        "validationGcp = sample.filter(ee.Filter.gte('random', 0.7));\n"
      ],
      "metadata": {
        "id": "z1lITI01MmTd"
      },
      "execution_count": 6,
      "outputs": []
    },
    {
      "cell_type": "code",
      "source": [
        "classifier = ee.Classifier.smileRandomForest(100).train(**{\"features\": trainingGcp,\"classProperty\": 'landcover',\"inputProperties\": bands})"
      ],
      "metadata": {
        "id": "8hZz-JDzOGLm"
      },
      "execution_count": 7,
      "outputs": []
    },
    {
      "cell_type": "code",
      "source": [
        "classified= filtered.classify(classifier)"
      ],
      "metadata": {
        "id": "SEkiIrqiOiEF"
      },
      "execution_count": 8,
      "outputs": []
    },
    {
      "cell_type": "code",
      "source": [
        "print(classifier.explain())"
      ],
      "metadata": {
        "id": "queOrGbmOcbe",
        "colab": {
          "base_uri": "https://localhost:8080/"
        },
        "outputId": "881eadf5-24b3-4d45-92b1-bed145f9e443"
      },
      "execution_count": 9,
      "outputs": [
        {
          "output_type": "stream",
          "name": "stdout",
          "text": [
            "ee.Dictionary({\n",
            "  \"functionInvocationValue\": {\n",
            "    \"functionName\": \"Classifier.explain\",\n",
            "    \"arguments\": {\n",
            "      \"classifier\": {\n",
            "        \"functionInvocationValue\": {\n",
            "          \"functionName\": \"Classifier.train\",\n",
            "          \"arguments\": {\n",
            "            \"classProperty\": {\n",
            "              \"constantValue\": \"landcover\"\n",
            "            },\n",
            "            \"classifier\": {\n",
            "              \"functionInvocationValue\": {\n",
            "                \"functionName\": \"Classifier.smileRandomForest\",\n",
            "                \"arguments\": {\n",
            "                  \"numberOfTrees\": {\n",
            "                    \"constantValue\": 100\n",
            "                  }\n",
            "                }\n",
            "              }\n",
            "            },\n",
            "            \"features\": {\n",
            "              \"functionInvocationValue\": {\n",
            "                \"functionName\": \"Collection.filter\",\n",
            "                \"arguments\": {\n",
            "                  \"collection\": {\n",
            "                    \"functionInvocationValue\": {\n",
            "                      \"functionName\": \"Collection.randomColumn\",\n",
            "                      \"arguments\": {\n",
            "                        \"collection\": {\n",
            "                          \"functionInvocationValue\": {\n",
            "                            \"functionName\": \"Image.sampleRegions\",\n",
            "                            \"arguments\": {\n",
            "                              \"collection\": {\n",
            "                                \"functionInvocationValue\": {\n",
            "                                  \"functionName\": \"Collection.loadTable\",\n",
            "                                  \"arguments\": {\n",
            "                                    \"tableId\": {\n",
            "                                      \"constantValue\": \"projects/ee-zubahme97/assets/finaltraning_set\"\n",
            "                                    }\n",
            "                                  }\n",
            "                                }\n",
            "                              },\n",
            "                              \"image\": {\n",
            "                                \"functionInvocationValue\": {\n",
            "                                  \"functionName\": \"Image.select\",\n",
            "                                  \"arguments\": {\n",
            "                                    \"bandSelectors\": {\n",
            "                                      \"constantValue\": [\n",
            "                                        \"B8\",\n",
            "                                        \"B4\",\n",
            "                                        \"B3\"\n",
            "                                      ]\n",
            "                                    },\n",
            "                                    \"input\": {\n",
            "                                      \"functionInvocationValue\": {\n",
            "                                        \"functionName\": \"Image.clip\",\n",
            "                                        \"arguments\": {\n",
            "                                          \"geometry\": {\n",
            "                                            \"functionInvocationValue\": {\n",
            "                                              \"functionName\": \"GeometryConstructors.Polygon\",\n",
            "                                              \"arguments\": {\n",
            "                                                \"coordinates\": {\n",
            "                                                  \"constantValue\": [\n",
            "                                                    [\n",
            "                                                      [\n",
            "                                                        77.45036134046319,\n",
            "                                                        13.177235646600929\n",
            "                                                      ],\n",
            "                                                      [\n",
            "                                                        77.45036134046319,\n",
            "                                                        13.081444893977725\n",
            "                                                      ],\n",
            "                                                      [\n",
            "                                                        77.5583363465667,\n",
            "                                                        13.081444893977725\n",
            "                                                      ],\n",
            "                                                      [\n",
            "                                                        77.5583363465667,\n",
            "                                                        13.177235646600929\n",
            "                                                      ]\n",
            "                                                    ]\n",
            "                                                  ]\n",
            "                                                },\n",
            "                                                \"evenOdd\": {\n",
            "                                                  \"constantValue\": true\n",
            "                                                }\n",
            "                                              }\n",
            "                                            }\n",
            "                                          },\n",
            "                                          \"input\": {\n",
            "                                            \"functionInvocationValue\": {\n",
            "                                              \"functionName\": \"Collection.first\",\n",
            "                                              \"arguments\": {\n",
            "                                                \"collection\": {\n",
            "                                                  \"functionInvocationValue\": {\n",
            "                                                    \"functionName\": \"Collection.filter\",\n",
            "                                                    \"arguments\": {\n",
            "                                                      \"collection\": {\n",
            "                                                        \"functionInvocationValue\": {\n",
            "                                                          \"functionName\": \"Collection.filter\",\n",
            "                                                          \"arguments\": {\n",
            "                                                            \"collection\": {\n",
            "                                                              \"functionInvocationValue\": {\n",
            "                                                                \"functionName\": \"Collection.filter\",\n",
            "                                                                \"arguments\": {\n",
            "                                                                  \"collection\": {\n",
            "                                                                    \"functionInvocationValue\": {\n",
            "                                                                      \"functionName\": \"ImageCollection.load\",\n",
            "                                                                      \"arguments\": {\n",
            "                                                                        \"id\": {\n",
            "                                                                          \"constantValue\": \"COPERNICUS/S2_SR\"\n",
            "                                                                        }\n",
            "                                                                      }\n",
            "                                                                    }\n",
            "                                                                  },\n",
            "                                                                  \"filter\": {\n",
            "                                                                    \"functionInvocationValue\": {\n",
            "                                                                      \"functionName\": \"Filter.dateRangeContains\",\n",
            "                                                                      \"arguments\": {\n",
            "                                                                        \"leftValue\": {\n",
            "                                                                          \"functionInvocationValue\": {\n",
            "                                                                            \"functionName\": \"DateRange\",\n",
            "                                                                            \"arguments\": {\n",
            "                                                                              \"end\": {\n",
            "                                                                                \"constantValue\": \"2022-04-25\"\n",
            "                                                                              },\n",
            "                                                                              \"start\": {\n",
            "                                                                                \"constantValue\": \"2022-01-01\"\n",
            "                                                                              }\n",
            "                                                                            }\n",
            "                                                                          }\n",
            "                                                                        },\n",
            "                                                                        \"rightField\": {\n",
            "                                                                          \"constantValue\": \"system:time_start\"\n",
            "                                                                        }\n",
            "                                                                      }\n",
            "                                                                    }\n",
            "                                                                  }\n",
            "                                                                }\n",
            "                                                              }\n",
            "                                                            },\n",
            "                                                            \"filter\": {\n",
            "                                                              \"functionInvocationValue\": {\n",
            "                                                                \"functionName\": \"Filter.intersects\",\n",
            "                                                                \"arguments\": {\n",
            "                                                                  \"leftField\": {\n",
            "                                                                    \"constantValue\": \".all\"\n",
            "                                                                  },\n",
            "                                                                  \"rightValue\": {\n",
            "                                                                    \"functionInvocationValue\": {\n",
            "                                                                      \"functionName\": \"Feature\",\n",
            "                                                                      \"arguments\": {\n",
            "                                                                        \"geometry\": {\n",
            "                                                                          \"functionInvocationValue\": {\n",
            "                                                                            \"functionName\": \"GeometryConstructors.Polygon\",\n",
            "                                                                            \"arguments\": {\n",
            "                                                                              \"coordinates\": {\n",
            "                                                                                \"constantValue\": [\n",
            "                                                                                  [\n",
            "                                                                                    [\n",
            "                                                                                      77.45036134046319,\n",
            "                                                                                      13.177235646600929\n",
            "                                                                                    ],\n",
            "                                                                                    [\n",
            "                                                                                      77.45036134046319,\n",
            "                                                                                      13.081444893977725\n",
            "                                                                                    ],\n",
            "                                                                                    [\n",
            "                                                                                      77.5583363465667,\n",
            "                                                                                      13.081444893977725\n",
            "                                                                                    ],\n",
            "                                                                                    [\n",
            "                                                                                      77.5583363465667,\n",
            "                                                                                      13.177235646600929\n",
            "                                                                                    ]\n",
            "                                                                                  ]\n",
            "                                                                                ]\n",
            "                                                                              },\n",
            "                                                                              \"evenOdd\": {\n",
            "                                                                                \"constantValue\": true\n",
            "                                                                              }\n",
            "                                                                            }\n",
            "                                                                          }\n",
            "                                                                        }\n",
            "                                                                      }\n",
            "                                                                    }\n",
            "                                                                  }\n",
            "                                                                }\n",
            "                                                              }\n",
            "                                                            }\n",
            "                                                          }\n",
            "                                                        }\n",
            "                                                      },\n",
            "                                                      \"filter\": {\n",
            "                                                        \"functionInvocationValue\": {\n",
            "                                                          \"functionName\": \"Filter.lessThan\",\n",
            "                                                          \"arguments\": {\n",
            "                                                            \"leftField\": {\n",
            "                                                              \"constantValue\": \"CLOUDY_PIXEL_PERCENTAGE\"\n",
            "                                                            },\n",
            "                                                            \"rightValue\": {\n",
            "                                                              \"constantValue\": 0.5\n",
            "                                                            }\n",
            "                                                          }\n",
            "                                                        }\n",
            "                                                      }\n",
            "                                                    }\n",
            "                                                  }\n",
            "                                                }\n",
            "                                              }\n",
            "                                            }\n",
            "                                          }\n",
            "                                        }\n",
            "                                      }\n",
            "                                    }\n",
            "                                  }\n",
            "                                }\n",
            "                              },\n",
            "                              \"properties\": {\n",
            "                                \"constantValue\": [\n",
            "                                  \"landcover\"\n",
            "                                ]\n",
            "                              },\n",
            "                              \"scale\": {\n",
            "                                \"constantValue\": 10\n",
            "                              }\n",
            "                            }\n",
            "                          }\n",
            "                        }\n",
            "                      }\n",
            "                    }\n",
            "                  },\n",
            "                  \"filter\": {\n",
            "                    \"functionInvocationValue\": {\n",
            "                      \"functionName\": \"Filter.lessThan\",\n",
            "                      \"arguments\": {\n",
            "                        \"leftField\": {\n",
            "                          \"constantValue\": \"random\"\n",
            "                        },\n",
            "                        \"rightValue\": {\n",
            "                          \"constantValue\": 0.7\n",
            "                        }\n",
            "                      }\n",
            "                    }\n",
            "                  }\n",
            "                }\n",
            "              }\n",
            "            },\n",
            "            \"inputProperties\": {\n",
            "              \"constantValue\": [\n",
            "                \"B8\",\n",
            "                \"B4\",\n",
            "                \"B3\"\n",
            "              ]\n",
            "            }\n",
            "          }\n",
            "        }\n",
            "      }\n",
            "    }\n",
            "  }\n",
            "})\n"
          ]
        }
      ]
    },
    {
      "cell_type": "code",
      "source": [
        "Map.addLayer(classified, {\"min\": 0, \"max\": 10, \"palette\": ['c81f04',  '100eff', '179750','ad7b0d','004902','ebff3f','ee6aff',\"aaff5a\",\"a6adba\",'ba81a6','61ff4e']}, '2022')\n",
        "legend_dict = {\n",
        "    '0)Built-up': 'c81f04',\n",
        "    '1)water': '100eff',\n",
        "    '2)otherplantations': '179750',\n",
        "    '3)coconut': 'ad7b0d',\n",
        "    '4)mango': '004902',\n",
        "    '5)openland': 'ebff3f',\n",
        "    '6)fallowlands': 'ee6aff',\n",
        "    '7)cropland': 'aaff5a',\n",
        "    '8)scrublands': 'a6adba',\n",
        "    '9)Eucalyptus': 'ba81a6',\n",
        "    '10)Forest':'61ff4e'\n",
        "}\n",
        "# add_north_arrow(ax, text='N', xy=(0.1, 0.1), arrow_length=0.1, text_color='black', arrow_color='black', fontsize=20, width=5, headwidth=15, ha='center', va='center')\n",
        "Map.add_legend(title=\"Classification of RE3,SWIR1 and SWIR2\", legend_dict=legend_dict,position=\"bottomright\")"
      ],
      "metadata": {
        "id": "M358BkkNOvo-"
      },
      "execution_count": 18,
      "outputs": []
    },
    {
      "cell_type": "code",
      "source": [
        "train_accuracy = classifier.confusionMatrix()\n",
        "train_accuracy.getInfo()\n",
        "train_accuracy.accuracy().getInfo()\n",
        "train_accuracy.kappa().getInfo()\n",
        "train_accuracy.producersAccuracy().getInfo()\n",
        "train_accuracy.consumersAccuracy().getInfo()"
      ],
      "metadata": {
        "colab": {
          "base_uri": "https://localhost:8080/"
        },
        "id": "5BQerhpHO4XQ",
        "outputId": "73e57815-7122-4d78-cc2d-03fd0542861a"
      },
      "execution_count": 11,
      "outputs": [
        {
          "output_type": "execute_result",
          "data": {
            "text/plain": [
              "[[1,\n",
              "  1,\n",
              "  0.9926739926739927,\n",
              "  0.996078431372549,\n",
              "  0.985,\n",
              "  1,\n",
              "  0.9858156028368794,\n",
              "  1,\n",
              "  0.9954337899543378,\n",
              "  0.9841628959276018,\n",
              "  0.9803921568627451]]"
            ]
          },
          "metadata": {},
          "execution_count": 11
        }
      ]
    },
    {
      "cell_type": "code",
      "source": [
        "validated = validationGcp.classify(classifier)"
      ],
      "metadata": {
        "id": "46tJ0HUOPWsU"
      },
      "execution_count": 12,
      "outputs": []
    },
    {
      "cell_type": "code",
      "source": [
        "testConfusionMatrix = validated.errorMatrix('landcover', 'classification')\n",
        "print('Confusion Matrix')\n",
        "testConfusionMatrix.getInfo()"
      ],
      "metadata": {
        "colab": {
          "base_uri": "https://localhost:8080/"
        },
        "id": "d2fWANejPZEH",
        "outputId": "1af7200a-0e4a-48c8-b7f5-9afb93732b99"
      },
      "execution_count": 13,
      "outputs": [
        {
          "output_type": "stream",
          "name": "stdout",
          "text": [
            "Confusion Matrix\n"
          ]
        },
        {
          "output_type": "execute_result",
          "data": {
            "text/plain": [
              "[[93, 0, 0, 1, 0, 0, 4, 0, 1, 0, 0],\n",
              " [0, 346, 0, 2, 0, 0, 0, 0, 0, 0, 0],\n",
              " [0, 0, 89, 7, 3, 0, 0, 2, 2, 6, 5],\n",
              " [0, 2, 1, 94, 5, 0, 0, 0, 1, 4, 1],\n",
              " [0, 0, 0, 1, 147, 0, 2, 1, 19, 12, 0],\n",
              " [0, 0, 0, 0, 0, 15, 1, 0, 0, 0, 0],\n",
              " [0, 0, 0, 0, 1, 0, 49, 0, 1, 0, 0],\n",
              " [0, 0, 5, 0, 0, 0, 1, 63, 0, 0, 0],\n",
              " [0, 0, 0, 2, 43, 0, 3, 2, 54, 2, 0],\n",
              " [0, 0, 11, 3, 35, 0, 0, 0, 7, 167, 0],\n",
              " [0, 0, 29, 6, 0, 0, 0, 0, 0, 0, 14]]"
            ]
          },
          "metadata": {},
          "execution_count": 13
        }
      ]
    },
    {
      "cell_type": "code",
      "source": [
        "print('Test Accuracy')\n",
        "testConfusionMatrix.accuracy().getInfo()"
      ],
      "metadata": {
        "colab": {
          "base_uri": "https://localhost:8080/"
        },
        "id": "75ajQytNP8nb",
        "outputId": "7898e111-4661-46d8-fcac-4afd3900ffde"
      },
      "execution_count": 14,
      "outputs": [
        {
          "output_type": "stream",
          "name": "stdout",
          "text": [
            "Test Accuracy\n"
          ]
        },
        {
          "output_type": "execute_result",
          "data": {
            "text/plain": [
              "0.8285714285714286"
            ]
          },
          "metadata": {},
          "execution_count": 14
        }
      ]
    },
    {
      "cell_type": "code",
      "source": [
        "print('kappa')\n",
        "testConfusionMatrix.kappa().getInfo()"
      ],
      "metadata": {
        "colab": {
          "base_uri": "https://localhost:8080/"
        },
        "id": "vmkHZouCP8uT",
        "outputId": "0399c049-1e48-402f-de72-6497260be9d2"
      },
      "execution_count": 15,
      "outputs": [
        {
          "output_type": "stream",
          "name": "stdout",
          "text": [
            "kappa\n"
          ]
        },
        {
          "output_type": "execute_result",
          "data": {
            "text/plain": [
              "0.8005971908432403"
            ]
          },
          "metadata": {},
          "execution_count": 15
        }
      ]
    },
    {
      "cell_type": "code",
      "source": [
        "print('ProdcuerAccuracy')\n",
        "testConfusionMatrix.producersAccuracy().getInfo()"
      ],
      "metadata": {
        "colab": {
          "base_uri": "https://localhost:8080/"
        },
        "id": "dpNExQUtP80a",
        "outputId": "14442b24-f119-4ce3-81f3-9d6be42cd000"
      },
      "execution_count": 16,
      "outputs": [
        {
          "output_type": "stream",
          "name": "stdout",
          "text": [
            "ProdcuerAccuracy\n"
          ]
        },
        {
          "output_type": "execute_result",
          "data": {
            "text/plain": [
              "[[0.9393939393939394],\n",
              " [0.9942528735632183],\n",
              " [0.7807017543859649],\n",
              " [0.8703703703703703],\n",
              " [0.8076923076923077],\n",
              " [0.9375],\n",
              " [0.9607843137254902],\n",
              " [0.9130434782608695],\n",
              " [0.5094339622641509],\n",
              " [0.7488789237668162],\n",
              " [0.2857142857142857]]"
            ]
          },
          "metadata": {},
          "execution_count": 16
        }
      ]
    },
    {
      "cell_type": "code",
      "source": [
        "print('UserAccuracy')\n",
        "testConfusionMatrix.consumersAccuracy().getInfo()"
      ],
      "metadata": {
        "colab": {
          "base_uri": "https://localhost:8080/"
        },
        "id": "UYCdGJuvP88I",
        "outputId": "742172de-3a44-4d02-e94f-8e04994decb9"
      },
      "execution_count": 17,
      "outputs": [
        {
          "output_type": "stream",
          "name": "stdout",
          "text": [
            "UserAccuracy\n"
          ]
        },
        {
          "output_type": "execute_result",
          "data": {
            "text/plain": [
              "[[1,\n",
              "  0.9942528735632183,\n",
              "  0.6592592592592592,\n",
              "  0.8103448275862069,\n",
              "  0.6282051282051282,\n",
              "  1,\n",
              "  0.8166666666666667,\n",
              "  0.9264705882352942,\n",
              "  0.6352941176470588,\n",
              "  0.8743455497382199,\n",
              "  0.7]]"
            ]
          },
          "metadata": {},
          "execution_count": 17
        }
      ]
    },
    {
      "cell_type": "code",
      "source": [
        "import os\n",
        "import csv"
      ],
      "metadata": {
        "id": "dT9L796pQbV6"
      },
      "execution_count": null,
      "outputs": []
    },
    {
      "cell_type": "code",
      "source": [
        "os.chdir(\"/content/drive/MyDrive/ee\")\n",
        "home=\"/content/drive/MyDrive/ee\""
      ],
      "metadata": {
        "id": "6Il6WjAvQUE_"
      },
      "execution_count": null,
      "outputs": []
    },
    {
      "cell_type": "code",
      "source": [
        "\n",
        "out_dir = os.path.join(home, 'Downloads')\n",
        "# training_csv = os.path.join(out_dir, 'train_accuracyfcc1.csv')\n",
        "testing_csv = os.path.join(out_dir, 'finalfcc1.csv')\n",
        "\n",
        "# with open(training_csv, \"w\", newline=\"\") as f:\n",
        "#     writer = csv.writer(f)\n",
        "#     writer.writerows(train_accuracy.getInfo())\n",
        "\n",
        "with open(testing_csv, \"w\", newline=\"\") as f:\n",
        "    writer = csv.writer(f)\n",
        "    writer.writerows(testConfusionMatrix.getInfo())"
      ],
      "metadata": {
        "id": "5kITifMeQSls"
      },
      "execution_count": null,
      "outputs": []
    },
    {
      "cell_type": "code",
      "source": [
        "out_dir = os.path.join(home, 'Downloads')\n",
        "training_csv = os.path.join(out_dir, 'pafcc1.csv')\n",
        "testing_csv = os.path.join(out_dir, 'uafcc1.csv')\n",
        "\n",
        "with open(training_csv, \"w\", newline=\"\") as f:\n",
        "    writer = csv.writer(f)\n",
        "    writer.writerows(testConfusionMatrix.producersAccuracy().getInfo())\n",
        "\n",
        "with open(testing_csv, \"w\", newline=\"\") as f:\n",
        "    writer = csv.writer(f)\n",
        "    writer.writerows(testConfusionMatrix.consumersAccuracy().getInfo())"
      ],
      "metadata": {
        "id": "yFLjzTN9QyZi"
      },
      "execution_count": null,
      "outputs": []
    }
  ]
}